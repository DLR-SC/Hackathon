{
 "cells": [
  {
   "cell_type": "markdown",
   "metadata": {},
   "source": [
    "## Determinate the failed build suqueces"
   ]
  },
  {
   "cell_type": "markdown",
   "metadata": {},
   "source": [
    "For more information about the underlaying data visit [Travis Torrent](https://travistorrent.testroots.org)"
   ]
  },
  {
   "cell_type": "code",
   "execution_count": 61,
   "metadata": {
    "collapsed": false
   },
   "outputs": [
    {
     "data": {
      "text/html": [
       "<div>\n",
       "<table border=\"1\" class=\"dataframe\">\n",
       "  <thead>\n",
       "    <tr style=\"text-align: right;\">\n",
       "      <th></th>\n",
       "      <th>tr_build_id</th>\n",
       "      <th>tr_prev_build</th>\n",
       "      <th>tr_status</th>\n",
       "    </tr>\n",
       "  </thead>\n",
       "  <tbody>\n",
       "    <tr>\n",
       "      <th>0</th>\n",
       "      <td>106060</td>\n",
       "      <td>105310.0</td>\n",
       "      <td>passed</td>\n",
       "    </tr>\n",
       "    <tr>\n",
       "      <th>1</th>\n",
       "      <td>106060</td>\n",
       "      <td>105310.0</td>\n",
       "      <td>passed</td>\n",
       "    </tr>\n",
       "    <tr>\n",
       "      <th>2</th>\n",
       "      <td>106060</td>\n",
       "      <td>105310.0</td>\n",
       "      <td>passed</td>\n",
       "    </tr>\n",
       "    <tr>\n",
       "      <th>3</th>\n",
       "      <td>106060</td>\n",
       "      <td>105310.0</td>\n",
       "      <td>passed</td>\n",
       "    </tr>\n",
       "    <tr>\n",
       "      <th>4</th>\n",
       "      <td>106060</td>\n",
       "      <td>105310.0</td>\n",
       "      <td>passed</td>\n",
       "    </tr>\n",
       "    <tr>\n",
       "      <th>5</th>\n",
       "      <td>106060</td>\n",
       "      <td>105310.0</td>\n",
       "      <td>passed</td>\n",
       "    </tr>\n",
       "    <tr>\n",
       "      <th>6</th>\n",
       "      <td>106060</td>\n",
       "      <td>105310.0</td>\n",
       "      <td>passed</td>\n",
       "    </tr>\n",
       "    <tr>\n",
       "      <th>7</th>\n",
       "      <td>106060</td>\n",
       "      <td>105310.0</td>\n",
       "      <td>passed</td>\n",
       "    </tr>\n",
       "    <tr>\n",
       "      <th>8</th>\n",
       "      <td>106060</td>\n",
       "      <td>105310.0</td>\n",
       "      <td>passed</td>\n",
       "    </tr>\n",
       "    <tr>\n",
       "      <th>9</th>\n",
       "      <td>106060</td>\n",
       "      <td>105310.0</td>\n",
       "      <td>passed</td>\n",
       "    </tr>\n",
       "    <tr>\n",
       "      <th>10</th>\n",
       "      <td>106060</td>\n",
       "      <td>105310.0</td>\n",
       "      <td>passed</td>\n",
       "    </tr>\n",
       "    <tr>\n",
       "      <th>11</th>\n",
       "      <td>106060</td>\n",
       "      <td>105310.0</td>\n",
       "      <td>passed</td>\n",
       "    </tr>\n",
       "    <tr>\n",
       "      <th>12</th>\n",
       "      <td>106060</td>\n",
       "      <td>105310.0</td>\n",
       "      <td>passed</td>\n",
       "    </tr>\n",
       "    <tr>\n",
       "      <th>13</th>\n",
       "      <td>106060</td>\n",
       "      <td>105310.0</td>\n",
       "      <td>passed</td>\n",
       "    </tr>\n",
       "    <tr>\n",
       "      <th>14</th>\n",
       "      <td>106060</td>\n",
       "      <td>105310.0</td>\n",
       "      <td>passed</td>\n",
       "    </tr>\n",
       "    <tr>\n",
       "      <th>15</th>\n",
       "      <td>106176</td>\n",
       "      <td>NaN</td>\n",
       "      <td>failed</td>\n",
       "    </tr>\n",
       "    <tr>\n",
       "      <th>16</th>\n",
       "      <td>106176</td>\n",
       "      <td>NaN</td>\n",
       "      <td>failed</td>\n",
       "    </tr>\n",
       "    <tr>\n",
       "      <th>17</th>\n",
       "      <td>106176</td>\n",
       "      <td>NaN</td>\n",
       "      <td>failed</td>\n",
       "    </tr>\n",
       "    <tr>\n",
       "      <th>18</th>\n",
       "      <td>106176</td>\n",
       "      <td>NaN</td>\n",
       "      <td>failed</td>\n",
       "    </tr>\n",
       "    <tr>\n",
       "      <th>19</th>\n",
       "      <td>106176</td>\n",
       "      <td>NaN</td>\n",
       "      <td>failed</td>\n",
       "    </tr>\n",
       "    <tr>\n",
       "      <th>20</th>\n",
       "      <td>106176</td>\n",
       "      <td>NaN</td>\n",
       "      <td>failed</td>\n",
       "    </tr>\n",
       "    <tr>\n",
       "      <th>21</th>\n",
       "      <td>106176</td>\n",
       "      <td>NaN</td>\n",
       "      <td>failed</td>\n",
       "    </tr>\n",
       "    <tr>\n",
       "      <th>22</th>\n",
       "      <td>106176</td>\n",
       "      <td>NaN</td>\n",
       "      <td>failed</td>\n",
       "    </tr>\n",
       "    <tr>\n",
       "      <th>23</th>\n",
       "      <td>106176</td>\n",
       "      <td>NaN</td>\n",
       "      <td>failed</td>\n",
       "    </tr>\n",
       "    <tr>\n",
       "      <th>24</th>\n",
       "      <td>106176</td>\n",
       "      <td>NaN</td>\n",
       "      <td>failed</td>\n",
       "    </tr>\n",
       "    <tr>\n",
       "      <th>25</th>\n",
       "      <td>106176</td>\n",
       "      <td>NaN</td>\n",
       "      <td>failed</td>\n",
       "    </tr>\n",
       "    <tr>\n",
       "      <th>26</th>\n",
       "      <td>106176</td>\n",
       "      <td>NaN</td>\n",
       "      <td>failed</td>\n",
       "    </tr>\n",
       "    <tr>\n",
       "      <th>27</th>\n",
       "      <td>106176</td>\n",
       "      <td>NaN</td>\n",
       "      <td>failed</td>\n",
       "    </tr>\n",
       "    <tr>\n",
       "      <th>28</th>\n",
       "      <td>106176</td>\n",
       "      <td>NaN</td>\n",
       "      <td>failed</td>\n",
       "    </tr>\n",
       "    <tr>\n",
       "      <th>29</th>\n",
       "      <td>106176</td>\n",
       "      <td>NaN</td>\n",
       "      <td>failed</td>\n",
       "    </tr>\n",
       "    <tr>\n",
       "      <th>...</th>\n",
       "      <td>...</td>\n",
       "      <td>...</td>\n",
       "      <td>...</td>\n",
       "    </tr>\n",
       "    <tr>\n",
       "      <th>11445</th>\n",
       "      <td>156664398</td>\n",
       "      <td>NaN</td>\n",
       "      <td>passed</td>\n",
       "    </tr>\n",
       "    <tr>\n",
       "      <th>11446</th>\n",
       "      <td>156664398</td>\n",
       "      <td>NaN</td>\n",
       "      <td>passed</td>\n",
       "    </tr>\n",
       "    <tr>\n",
       "      <th>11447</th>\n",
       "      <td>156664540</td>\n",
       "      <td>NaN</td>\n",
       "      <td>errored</td>\n",
       "    </tr>\n",
       "    <tr>\n",
       "      <th>11448</th>\n",
       "      <td>156664540</td>\n",
       "      <td>NaN</td>\n",
       "      <td>errored</td>\n",
       "    </tr>\n",
       "    <tr>\n",
       "      <th>11449</th>\n",
       "      <td>156664582</td>\n",
       "      <td>NaN</td>\n",
       "      <td>errored</td>\n",
       "    </tr>\n",
       "    <tr>\n",
       "      <th>11450</th>\n",
       "      <td>156664582</td>\n",
       "      <td>NaN</td>\n",
       "      <td>errored</td>\n",
       "    </tr>\n",
       "    <tr>\n",
       "      <th>11451</th>\n",
       "      <td>156664582</td>\n",
       "      <td>NaN</td>\n",
       "      <td>errored</td>\n",
       "    </tr>\n",
       "    <tr>\n",
       "      <th>11452</th>\n",
       "      <td>156664582</td>\n",
       "      <td>NaN</td>\n",
       "      <td>errored</td>\n",
       "    </tr>\n",
       "    <tr>\n",
       "      <th>11453</th>\n",
       "      <td>156664590</td>\n",
       "      <td>NaN</td>\n",
       "      <td>errored</td>\n",
       "    </tr>\n",
       "    <tr>\n",
       "      <th>11454</th>\n",
       "      <td>156664590</td>\n",
       "      <td>NaN</td>\n",
       "      <td>errored</td>\n",
       "    </tr>\n",
       "    <tr>\n",
       "      <th>11455</th>\n",
       "      <td>156664590</td>\n",
       "      <td>NaN</td>\n",
       "      <td>errored</td>\n",
       "    </tr>\n",
       "    <tr>\n",
       "      <th>11456</th>\n",
       "      <td>156664590</td>\n",
       "      <td>NaN</td>\n",
       "      <td>errored</td>\n",
       "    </tr>\n",
       "    <tr>\n",
       "      <th>11457</th>\n",
       "      <td>156667224</td>\n",
       "      <td>156609988.0</td>\n",
       "      <td>passed</td>\n",
       "    </tr>\n",
       "    <tr>\n",
       "      <th>11458</th>\n",
       "      <td>156667224</td>\n",
       "      <td>156609988.0</td>\n",
       "      <td>passed</td>\n",
       "    </tr>\n",
       "    <tr>\n",
       "      <th>11459</th>\n",
       "      <td>156667224</td>\n",
       "      <td>156609988.0</td>\n",
       "      <td>passed</td>\n",
       "    </tr>\n",
       "    <tr>\n",
       "      <th>11460</th>\n",
       "      <td>156667224</td>\n",
       "      <td>156609988.0</td>\n",
       "      <td>passed</td>\n",
       "    </tr>\n",
       "    <tr>\n",
       "      <th>11461</th>\n",
       "      <td>156667627</td>\n",
       "      <td>156405930.0</td>\n",
       "      <td>passed</td>\n",
       "    </tr>\n",
       "    <tr>\n",
       "      <th>11462</th>\n",
       "      <td>156667627</td>\n",
       "      <td>156405930.0</td>\n",
       "      <td>passed</td>\n",
       "    </tr>\n",
       "    <tr>\n",
       "      <th>11463</th>\n",
       "      <td>156668690</td>\n",
       "      <td>155806931.0</td>\n",
       "      <td>passed</td>\n",
       "    </tr>\n",
       "    <tr>\n",
       "      <th>11464</th>\n",
       "      <td>156669587</td>\n",
       "      <td>156376985.0</td>\n",
       "      <td>failed</td>\n",
       "    </tr>\n",
       "    <tr>\n",
       "      <th>11465</th>\n",
       "      <td>156670030</td>\n",
       "      <td>NaN</td>\n",
       "      <td>failed</td>\n",
       "    </tr>\n",
       "    <tr>\n",
       "      <th>11466</th>\n",
       "      <td>156670030</td>\n",
       "      <td>NaN</td>\n",
       "      <td>failed</td>\n",
       "    </tr>\n",
       "    <tr>\n",
       "      <th>11467</th>\n",
       "      <td>156670030</td>\n",
       "      <td>NaN</td>\n",
       "      <td>failed</td>\n",
       "    </tr>\n",
       "    <tr>\n",
       "      <th>11468</th>\n",
       "      <td>156670030</td>\n",
       "      <td>NaN</td>\n",
       "      <td>failed</td>\n",
       "    </tr>\n",
       "    <tr>\n",
       "      <th>11469</th>\n",
       "      <td>156671240</td>\n",
       "      <td>NaN</td>\n",
       "      <td>passed</td>\n",
       "    </tr>\n",
       "    <tr>\n",
       "      <th>11470</th>\n",
       "      <td>156671240</td>\n",
       "      <td>NaN</td>\n",
       "      <td>passed</td>\n",
       "    </tr>\n",
       "    <tr>\n",
       "      <th>11471</th>\n",
       "      <td>156675548</td>\n",
       "      <td>149282699.0</td>\n",
       "      <td>passed</td>\n",
       "    </tr>\n",
       "    <tr>\n",
       "      <th>11472</th>\n",
       "      <td>156675548</td>\n",
       "      <td>149282699.0</td>\n",
       "      <td>passed</td>\n",
       "    </tr>\n",
       "    <tr>\n",
       "      <th>11473</th>\n",
       "      <td>156676294</td>\n",
       "      <td>156611059.0</td>\n",
       "      <td>passed</td>\n",
       "    </tr>\n",
       "    <tr>\n",
       "      <th>11474</th>\n",
       "      <td>156676294</td>\n",
       "      <td>156611059.0</td>\n",
       "      <td>passed</td>\n",
       "    </tr>\n",
       "  </tbody>\n",
       "</table>\n",
       "<p>3702595 rows × 3 columns</p>\n",
       "</div>"
      ],
      "text/plain": [
       "       tr_build_id  tr_prev_build tr_status\n",
       "0           106060       105310.0    passed\n",
       "1           106060       105310.0    passed\n",
       "2           106060       105310.0    passed\n",
       "3           106060       105310.0    passed\n",
       "4           106060       105310.0    passed\n",
       "5           106060       105310.0    passed\n",
       "6           106060       105310.0    passed\n",
       "7           106060       105310.0    passed\n",
       "8           106060       105310.0    passed\n",
       "9           106060       105310.0    passed\n",
       "10          106060       105310.0    passed\n",
       "11          106060       105310.0    passed\n",
       "12          106060       105310.0    passed\n",
       "13          106060       105310.0    passed\n",
       "14          106060       105310.0    passed\n",
       "15          106176            NaN    failed\n",
       "16          106176            NaN    failed\n",
       "17          106176            NaN    failed\n",
       "18          106176            NaN    failed\n",
       "19          106176            NaN    failed\n",
       "20          106176            NaN    failed\n",
       "21          106176            NaN    failed\n",
       "22          106176            NaN    failed\n",
       "23          106176            NaN    failed\n",
       "24          106176            NaN    failed\n",
       "25          106176            NaN    failed\n",
       "26          106176            NaN    failed\n",
       "27          106176            NaN    failed\n",
       "28          106176            NaN    failed\n",
       "29          106176            NaN    failed\n",
       "...            ...            ...       ...\n",
       "11445    156664398            NaN    passed\n",
       "11446    156664398            NaN    passed\n",
       "11447    156664540            NaN   errored\n",
       "11448    156664540            NaN   errored\n",
       "11449    156664582            NaN   errored\n",
       "11450    156664582            NaN   errored\n",
       "11451    156664582            NaN   errored\n",
       "11452    156664582            NaN   errored\n",
       "11453    156664590            NaN   errored\n",
       "11454    156664590            NaN   errored\n",
       "11455    156664590            NaN   errored\n",
       "11456    156664590            NaN   errored\n",
       "11457    156667224    156609988.0    passed\n",
       "11458    156667224    156609988.0    passed\n",
       "11459    156667224    156609988.0    passed\n",
       "11460    156667224    156609988.0    passed\n",
       "11461    156667627    156405930.0    passed\n",
       "11462    156667627    156405930.0    passed\n",
       "11463    156668690    155806931.0    passed\n",
       "11464    156669587    156376985.0    failed\n",
       "11465    156670030            NaN    failed\n",
       "11466    156670030            NaN    failed\n",
       "11467    156670030            NaN    failed\n",
       "11468    156670030            NaN    failed\n",
       "11469    156671240            NaN    passed\n",
       "11470    156671240            NaN    passed\n",
       "11471    156675548    149282699.0    passed\n",
       "11472    156675548    149282699.0    passed\n",
       "11473    156676294    156611059.0    passed\n",
       "11474    156676294    156611059.0    passed\n",
       "\n",
       "[3702595 rows x 3 columns]"
      ]
     },
     "execution_count": 61,
     "metadata": {},
     "output_type": "execute_result"
    }
   ],
   "source": [
    "# Import the data set via dask => runs a lot faster than with pandas\n",
    "import dask.dataframe as dd\n",
    "\n",
    "org = dd.read_csv('travistorrent_11_1_2017.csv', blocksize=25000000, usecols=['tr_build_id', \"tr_prev_build\", \"tr_status\"])\n",
    "org.set_index('tr_build_id')\n",
    "org.compute()"
   ]
  },
  {
   "cell_type": "code",
   "execution_count": 12,
   "metadata": {
    "collapsed": false
   },
   "outputs": [
    {
     "data": {
      "text/plain": [
       "tr_build_id              1720209\n",
       "git_prev_built_commit    1720209\n",
       "tr_prev_build            1720209\n",
       "tr_status                1720209\n",
       "dtype: int64"
      ]
     },
     "execution_count": 12,
     "metadata": {},
     "output_type": "execute_result"
    }
   ],
   "source": [
    "import dask.dataframe as dd\n",
    "\n",
    "# Load data, set index \n",
    "df = dd.read_csv('travistorrent_11_1_2017.csv', blocksize=25000000, \n",
    "                 usecols=['tr_build_id', \"tr_prev_build\", \"tr_status\", \"git_prev_built_commit\"])\n",
    "df = df.compute()\n",
    "df.set_index('tr_build_id')\n",
    "df = df[df.tr_build_id.notnull()] # To be sure\n",
    "\n",
    "# Find all passed builds ids (=> check whether all jobs really passed)\n",
    "# Map the failed status to 1 and all other to 0\n",
    "def check_if_passed(df):\n",
    "    if df.tr_status == 'passed':\n",
    "        df.tr_status = 0\n",
    "    else:\n",
    "        df.tr_status = 1\n",
    "    return df\n",
    "\n",
    "maped_status = df.apply(check_if_passed, axis=1)\n",
    "\n",
    "# Get all passed builds\n",
    "grouped_build_id = maped_status.groupby(['tr_build_id']).tr_status.sum()\n",
    "grouped_build_id = grouped_build_id.where(lambda x: x ==  0 ).dropna()\n",
    "\n",
    "passed_builds_all = df.where(lambda x: x.tr_build_id.isin(grouped_build_id.keys().values))\n",
    "passed_builds = passed_builds_all[passed_builds_all.tr_prev_build.notnull()]\n",
    "passed_builds_all.count()\n",
    "passed_builds.count()"
   ]
  },
  {
   "cell_type": "code",
   "execution_count": 24,
   "metadata": {
    "collapsed": false
   },
   "outputs": [
    {
     "data": {
      "text/plain": [
       "tr_build_id              1720209\n",
       "git_prev_built_commit    1720209\n",
       "tr_prev_build            1720209\n",
       "tr_status                1720209\n",
       "dtype: int64"
      ]
     },
     "execution_count": 24,
     "metadata": {},
     "output_type": "execute_result"
    }
   ],
   "source": [
    "#passed_builds[passed_builds.tr_status == 'failed'].head(1000)\n",
    "#passed_builds_all.to_csv(\"passed_builds_all_out.csv\")\n",
    "passed_builds.count()"
   ]
  },
  {
   "cell_type": "code",
   "execution_count": 188,
   "metadata": {
    "collapsed": false
   },
   "outputs": [
    {
     "data": {
      "text/plain": [
       "tr_build_id              267156\n",
       "git_prev_built_commit    267156\n",
       "tr_prev_build            267156\n",
       "tr_status                267156\n",
       "dtype: int64"
      ]
     },
     "execution_count": 188,
     "metadata": {},
     "output_type": "execute_result"
    }
   ],
   "source": [
    "# Get all passed builds where the prev build failed\n",
    "passed_whith_prev_failed = passed_builds.where(lambda x: x.tr_prev_build.isin(grouped_build_id.keys().values) == False)\n",
    "passed_whith_prev_failed.count()"
   ]
  },
  {
   "cell_type": "code",
   "execution_count": 35,
   "metadata": {
    "collapsed": false
   },
   "outputs": [
    {
     "data": {
      "text/html": [
       "<div>\n",
       "<table border=\"1\" class=\"dataframe\">\n",
       "  <thead>\n",
       "    <tr style=\"text-align: right;\">\n",
       "      <th></th>\n",
       "      <th>tr_build_id</th>\n",
       "      <th>git_prev_built_commit</th>\n",
       "      <th>tr_prev_build</th>\n",
       "      <th>tr_status</th>\n",
       "    </tr>\n",
       "  </thead>\n",
       "  <tbody>\n",
       "    <tr>\n",
       "      <th>181</th>\n",
       "      <td>108038.0</td>\n",
       "      <td>cfe7548aef1b005e49eacd8b0177764e77643ccf</td>\n",
       "      <td>106176.0</td>\n",
       "      <td>passed</td>\n",
       "    </tr>\n",
       "    <tr>\n",
       "      <th>182</th>\n",
       "      <td>108038.0</td>\n",
       "      <td>cfe7548aef1b005e49eacd8b0177764e77643ccf</td>\n",
       "      <td>106176.0</td>\n",
       "      <td>passed</td>\n",
       "    </tr>\n",
       "    <tr>\n",
       "      <th>183</th>\n",
       "      <td>108038.0</td>\n",
       "      <td>cfe7548aef1b005e49eacd8b0177764e77643ccf</td>\n",
       "      <td>106176.0</td>\n",
       "      <td>passed</td>\n",
       "    </tr>\n",
       "    <tr>\n",
       "      <th>184</th>\n",
       "      <td>108038.0</td>\n",
       "      <td>cfe7548aef1b005e49eacd8b0177764e77643ccf</td>\n",
       "      <td>106176.0</td>\n",
       "      <td>passed</td>\n",
       "    </tr>\n",
       "    <tr>\n",
       "      <th>185</th>\n",
       "      <td>108038.0</td>\n",
       "      <td>cfe7548aef1b005e49eacd8b0177764e77643ccf</td>\n",
       "      <td>106176.0</td>\n",
       "      <td>passed</td>\n",
       "    </tr>\n",
       "    <tr>\n",
       "      <th>186</th>\n",
       "      <td>108038.0</td>\n",
       "      <td>cfe7548aef1b005e49eacd8b0177764e77643ccf</td>\n",
       "      <td>106176.0</td>\n",
       "      <td>passed</td>\n",
       "    </tr>\n",
       "    <tr>\n",
       "      <th>187</th>\n",
       "      <td>108038.0</td>\n",
       "      <td>cfe7548aef1b005e49eacd8b0177764e77643ccf</td>\n",
       "      <td>106176.0</td>\n",
       "      <td>passed</td>\n",
       "    </tr>\n",
       "    <tr>\n",
       "      <th>188</th>\n",
       "      <td>108038.0</td>\n",
       "      <td>cfe7548aef1b005e49eacd8b0177764e77643ccf</td>\n",
       "      <td>106176.0</td>\n",
       "      <td>passed</td>\n",
       "    </tr>\n",
       "    <tr>\n",
       "      <th>189</th>\n",
       "      <td>108038.0</td>\n",
       "      <td>cfe7548aef1b005e49eacd8b0177764e77643ccf</td>\n",
       "      <td>106176.0</td>\n",
       "      <td>passed</td>\n",
       "    </tr>\n",
       "    <tr>\n",
       "      <th>190</th>\n",
       "      <td>108038.0</td>\n",
       "      <td>cfe7548aef1b005e49eacd8b0177764e77643ccf</td>\n",
       "      <td>106176.0</td>\n",
       "      <td>passed</td>\n",
       "    </tr>\n",
       "    <tr>\n",
       "      <th>191</th>\n",
       "      <td>108038.0</td>\n",
       "      <td>cfe7548aef1b005e49eacd8b0177764e77643ccf</td>\n",
       "      <td>106176.0</td>\n",
       "      <td>passed</td>\n",
       "    </tr>\n",
       "    <tr>\n",
       "      <th>192</th>\n",
       "      <td>108038.0</td>\n",
       "      <td>cfe7548aef1b005e49eacd8b0177764e77643ccf</td>\n",
       "      <td>106176.0</td>\n",
       "      <td>passed</td>\n",
       "    </tr>\n",
       "    <tr>\n",
       "      <th>193</th>\n",
       "      <td>108038.0</td>\n",
       "      <td>cfe7548aef1b005e49eacd8b0177764e77643ccf</td>\n",
       "      <td>106176.0</td>\n",
       "      <td>passed</td>\n",
       "    </tr>\n",
       "    <tr>\n",
       "      <th>194</th>\n",
       "      <td>108038.0</td>\n",
       "      <td>cfe7548aef1b005e49eacd8b0177764e77643ccf</td>\n",
       "      <td>106176.0</td>\n",
       "      <td>passed</td>\n",
       "    </tr>\n",
       "    <tr>\n",
       "      <th>195</th>\n",
       "      <td>108038.0</td>\n",
       "      <td>cfe7548aef1b005e49eacd8b0177764e77643ccf</td>\n",
       "      <td>106176.0</td>\n",
       "      <td>passed</td>\n",
       "    </tr>\n",
       "  </tbody>\n",
       "</table>\n",
       "</div>"
      ],
      "text/plain": [
       "     tr_build_id                     git_prev_built_commit  tr_prev_build  \\\n",
       "181     108038.0  cfe7548aef1b005e49eacd8b0177764e77643ccf       106176.0   \n",
       "182     108038.0  cfe7548aef1b005e49eacd8b0177764e77643ccf       106176.0   \n",
       "183     108038.0  cfe7548aef1b005e49eacd8b0177764e77643ccf       106176.0   \n",
       "184     108038.0  cfe7548aef1b005e49eacd8b0177764e77643ccf       106176.0   \n",
       "185     108038.0  cfe7548aef1b005e49eacd8b0177764e77643ccf       106176.0   \n",
       "186     108038.0  cfe7548aef1b005e49eacd8b0177764e77643ccf       106176.0   \n",
       "187     108038.0  cfe7548aef1b005e49eacd8b0177764e77643ccf       106176.0   \n",
       "188     108038.0  cfe7548aef1b005e49eacd8b0177764e77643ccf       106176.0   \n",
       "189     108038.0  cfe7548aef1b005e49eacd8b0177764e77643ccf       106176.0   \n",
       "190     108038.0  cfe7548aef1b005e49eacd8b0177764e77643ccf       106176.0   \n",
       "191     108038.0  cfe7548aef1b005e49eacd8b0177764e77643ccf       106176.0   \n",
       "192     108038.0  cfe7548aef1b005e49eacd8b0177764e77643ccf       106176.0   \n",
       "193     108038.0  cfe7548aef1b005e49eacd8b0177764e77643ccf       106176.0   \n",
       "194     108038.0  cfe7548aef1b005e49eacd8b0177764e77643ccf       106176.0   \n",
       "195     108038.0  cfe7548aef1b005e49eacd8b0177764e77643ccf       106176.0   \n",
       "\n",
       "    tr_status  \n",
       "181    passed  \n",
       "182    passed  \n",
       "183    passed  \n",
       "184    passed  \n",
       "185    passed  \n",
       "186    passed  \n",
       "187    passed  \n",
       "188    passed  \n",
       "189    passed  \n",
       "190    passed  \n",
       "191    passed  \n",
       "192    passed  \n",
       "193    passed  \n",
       "194    passed  \n",
       "195    passed  "
      ]
     },
     "execution_count": 35,
     "metadata": {},
     "output_type": "execute_result"
    }
   ],
   "source": [
    "passed_whith_prev_failed[passed_whith_prev_failed.tr_prev_build == 106176].head(1000)"
   ]
  },
  {
   "cell_type": "code",
   "execution_count": 104,
   "metadata": {
    "collapsed": true
   },
   "outputs": [],
   "source": [
    "# Load data via pandas to reference it\n",
    "import pandas\n",
    "\n",
    "data_frame = pandas.read_csv(\"travistorrent_11_1_2017.csv\", usecols=[i for i in range(61) if i not in (3,6,18)])"
   ]
  },
  {
   "cell_type": "code",
   "execution_count": 175,
   "metadata": {
    "collapsed": false
   },
   "outputs": [
    {
     "data": {
      "text/plain": [
       "'done'"
      ]
     },
     "execution_count": 175,
     "metadata": {},
     "output_type": "execute_result"
    }
   ],
   "source": [
    "# Determine all failed prev for each starting point (passed with prev failed)\n",
    "\n",
    "# Helper to find relevant data\n",
    "def get_build_rows_by_build_id(tr_build_id):\n",
    "    return data_frame[data_frame.tr_build_id==tr_build_id]\n",
    "    \n",
    "# Result arr with custom data structure, contains the build id and the\n",
    "results = dict()\n",
    "def search_for_prev_builds(row): # Determine all failed preds for a specific starting print\n",
    "    #if len(results) > 100000:\n",
    "    #    return\n",
    "    if (row.tr_build_id in results.keys()):\n",
    "        #print(\"Wrong state for build id {0}\".format(row.tr_build_id))\n",
    "        return\n",
    "    if not row.tr_build_id > 0: #nan\n",
    "        return\n",
    "\n",
    "    results[row.tr_build_id] = [] # List of previous builds\n",
    "    # 126229 => 117642 (errored)\n",
    "    # 117642 => 117385 (errored)\n",
    "    # 117385 => NaN\n",
    "    current_prev_build_id = row.tr_prev_build\n",
    "    while(current_prev_build_id > 0):\n",
    "        prev_build_rows = get_build_rows_by_build_id(current_prev_build_id)\n",
    "        results[row.tr_build_id].append({\"build_id\": current_prev_build_id, \"builds\": prev_build_rows})\n",
    "        if(prev_build_rows.tr_prev_build.count() > 0): # any content?\n",
    "            base_row = prev_build_rows.head(1)\n",
    "            if base_row.tr_status.values[0] == \"passed\":\n",
    "                return row\n",
    "            current_prev_build_id = base_row.tr_prev_build.values[0]\n",
    "        else:\n",
    "            return row\n",
    "    return row\n",
    "\n",
    "result_data = passed_whith_prev_failed[passed_whith_prev_failed.tr_prev_build.notnull()]\n",
    "#result_data = result_data[result_data.tr_build_id == 126229]\n",
    "result_data.apply(search_for_prev_builds, axis=1)\n",
    "\"done\"\n"
   ]
  },
  {
   "cell_type": "code",
   "execution_count": 187,
   "metadata": {
    "collapsed": false
   },
   "outputs": [
    {
     "name": "stdout",
     "output_type": "stream",
     "text": [
      "42673\n",
      "42673\n"
     ]
    }
   ],
   "source": [
    "out = result_data.tr_build_id.unique()\n",
    "print(len(out))\n",
    "print(len(results))"
   ]
  },
  {
   "cell_type": "code",
   "execution_count": 384,
   "metadata": {
    "collapsed": false
   },
   "outputs": [
    {
     "name": "stdout",
     "output_type": "stream",
     "text": [
      "147719922.0  =>  1562 :  apache/sling\n",
      "118003704.0  =>  177 :  facebook/buck\n",
      "779485.0  =>  171 :  ruby/ruby\n",
      "72443122.0  =>  286 :  apache/jackrabbit-oak\n",
      "140087226.0  =>  242 :  facebook/buck\n",
      "94335879.0  =>  615 :  apache/drill\n",
      "107834715.0  =>  486 :  orbeon/orbeon-forms\n",
      "74140385.0  =>  284 :  orbeon/orbeon-forms\n"
     ]
    }
   ],
   "source": [
    "# Top failed builds in row\n",
    "for key, value in results.items():\n",
    "    if len(value) > 150:\n",
    "        print(key, \" => \", len(value), \": \", value[0]['builds'].head(1).gh_project_name.values[0])"
   ]
  },
  {
   "cell_type": "markdown",
   "metadata": {},
   "source": [
    "## Build sequences per lenght "
   ]
  },
  {
   "cell_type": "code",
   "execution_count": 458,
   "metadata": {
    "collapsed": false
   },
   "outputs": [
    {
     "name": "stdout",
     "output_type": "stream",
     "text": [
      "[8554, 21211, 12077, 791, 25, 7, 7, 1]\n",
      "Populating the interactive namespace from numpy and matplotlib\n"
     ]
    },
    {
     "data": {
      "text/plain": [
       "<matplotlib.axes._subplots.AxesSubplot at 0x2790e84a8>"
      ]
     },
     "execution_count": 458,
     "metadata": {},
     "output_type": "execute_result"
    },
    {
     "data": {
      "text/plain": [
       "<matplotlib.figure.Figure at 0x169da0c50>"
      ]
     },
     "metadata": {},
     "output_type": "display_data"
    },
    {
     "data": {
      "image/png": "[encoded data removed]",
      "text/plain": [
       "<matplotlib.figure.Figure at 0x2790dec18>"
      ]
     },
     "metadata": {},
     "output_type": "display_data"
    }
   ],
   "source": [
    "# Show length of failed builds\n",
    "counter = [0, 0, 0, 0, 0, 0, 0, 0]\n",
    "for key, value in results.items():\n",
    "    if len(value) > 1000:\n",
    "        counter[7] += 1\n",
    "    elif len(value) > 150:\n",
    "        counter[6] += 1\n",
    "    elif len(value) > 100:\n",
    "        counter[5] += 1\n",
    "    elif len(value) > 50:\n",
    "        counter[4] += 1\n",
    "    elif len(value) > 10:\n",
    "        counter[3] += 1\n",
    "    elif len(value) > 2:\n",
    "        counter[2] += 1\n",
    "    elif len(value) > 1:\n",
    "        counter[1] += 1\n",
    "    elif len(value) > 0:\n",
    "        counter[0] += 1\n",
    "counter\n",
    "from pandas import DataFrame\n",
    "import numpy as np\n",
    "import matplotlib.pyplot as plt\n",
    "print(counter)\n",
    "index_str = \"==1({}),==2({}),3 < len <= 10({}),10 < len <= 50({}),50 < len <= 100({}),100 < len <= 150({}),150 < len <= 10000({}),> 1000({})\".format(\n",
    "    counter[0], counter[1], counter[2], counter[3], counter[4], counter[5], counter[6], counter[7])\n",
    "index = index_str.split(\",\")\n",
    "\n",
    "counter = np.int_(counter)\n",
    "%pylab inline\n",
    "\n",
    "\n",
    "len_failed_builds = DataFrame(data=counter, index=index)\n",
    "plt.figure()\n",
    "len_failed_builds.plot(kind='bar')\n"
   ]
  },
  {
   "cell_type": "markdown",
   "metadata": {},
   "source": [
    "## Longest time of a sequence "
   ]
  },
  {
   "cell_type": "code",
   "execution_count": 411,
   "metadata": {
    "collapsed": false
   },
   "outputs": [
    {
     "name": "stdout",
     "output_type": "stream",
     "text": [
      "2016-07-27 10:34:49 2015-12-17 17:58:40\n",
      "2015-12-17 17:58:40\n"
     ]
    },
    {
     "data": {
      "text/plain": [
       "-223"
      ]
     },
     "execution_count": 411,
     "metadata": {},
     "output_type": "execute_result"
    }
   ],
   "source": [
    "#results[147719922.0][0]['builds'].head(1).gh_build_started_at.values[0]\n",
    "#results[147719922.0][0]['builds'].head(1).gh_build_started_at.values[0]\n",
    "\n",
    "dt_end = data_frame[data_frame.tr_build_id == 147719922].head(1).gh_build_started_at.values[0] #green\n",
    "dt_start = results[147719922.0][1561]['builds'].head(1).gh_build_started_at.values[0]\n",
    "import datetime\n",
    "print(dt_end, dt_start)\n",
    "delta = datetime.datetime(2016,7,27,10,34,49) - datetime.datetime(2015,12,17,17,58,40)\n",
    "\n",
    "print(dt_start)\n",
    "delta = datetime.datetime.strptime(dt_end, \"%Y-%m-%d %H:%M:%S\") - datetime.datetime(2015,12,17,17,58,40)\n",
    "delta.days\n",
    "\n",
    "\n",
    "delta = datetime.datetime.strptime(dt_start, \"%Y-%m-%d %H:%M:%S\") - datetime.datetime.strptime(dt_end, \"%Y-%m-%d %H:%M:%S\")\n",
    "delta.days           "
   ]
  },
  {
   "cell_type": "markdown",
   "metadata": {},
   "source": [
    "## Prepare data \n",
    "\n",
    "In this section we perform some calculations on the result array to prepare the import into a panda data frame "
   ]
  },
  {
   "cell_type": "code",
   "execution_count": 469,
   "metadata": {
    "collapsed": false
   },
   "outputs": [],
   "source": [
    "from pandas import DataFrame\n",
    "import numpy as np\n",
    "import matplotlib.pyplot as plt\n",
    "\n",
    "counter_detail = []\n",
    "for key, values in results.items():\n",
    "    if len(values) > 0:\n",
    "        num_failed_builds = len(values)\n",
    "        team_size = 0\n",
    "        num_tests_ok = 0\n",
    "        num_tests_run = 0\n",
    "        num_tests_min_ok = 100000 \n",
    "        for value in values: \n",
    "            team_size += value['builds'].gh_team_size.mean()\n",
    "            num_tests_ok += value['builds'].tr_log_num_tests_ok.mean()\n",
    "            current_min = value['builds'].tr_log_num_tests_ok.mean()\n",
    "            num_sloc = value['builds'].gh_sloc.mean()\n",
    "            num_test_deleated =  value['builds'].gh_diff_tests_deleted.mean()\n",
    "            if current_min < num_tests_min_ok: \n",
    "                num_tests_min_ok = current_min\n",
    "            num_tests_run += value['builds'].tr_log_num_tests_run.mean()\n",
    "        \n",
    "        team_size = team_size / len(values)\n",
    "        num_tests_ok = num_tests_ok / len(values)\n",
    "        num_tests_run = num_tests_run / len(values)\n",
    "        num_sloc = num_sloc / len(values)\n",
    "        num_test_deleated \n",
    "        if num_tests_run > 0:\n",
    "            test_ok_percent = num_tests_ok / num_tests_run * 100\n",
    "        else:\n",
    "            test_ok_percent = 0\n",
    "            \n",
    "        first = values[-1]\n",
    "        num_first_test_ok = first['builds'].tr_log_num_tests_ok.mean()\n",
    "        delta = num_first_test_ok - num_tests_min_ok\n",
    "        last = values[0]\n",
    "        last_start_dates = last[\"builds\"].gh_build_started_at.values\n",
    "        first_start_dates = first[\"builds\"].gh_build_started_at.values\n",
    "      \n",
    "        if len(values[0]['builds'].gh_project_name.values) > 0:\n",
    "            project_name = values[0]['builds'].gh_project_name.values[0]\n",
    "        \n",
    "        if len(last_start_dates)  > 0 and len(first_start_dates) > 0: \n",
    "            \n",
    "            num_duration_days = datetime.datetime.strptime(last_start_dates[0], \"%Y-%m-%d %H:%M:%S\") - datetime.datetime.strptime(first_start_dates[0], \"%Y-%m-%d %H:%M:%S\")\n",
    "            num_duration_days = num_duration_days.days\n",
    "        if num_first_test_ok > 0:\n",
    "            test_ok_delta_percent = delta / num_first_test_ok  * 100 \n",
    "        else:\n",
    "            test_ok_delta_percent = 0\n",
    "        counter_detail.append((num_failed_builds, team_size, num_tests_ok, num_tests_run, test_ok_percent,test_ok_delta_percent,num_duration_days,num_sloc,num_test_deleated,project_name))\n",
    "                \n",
    "            "
   ]
  },
  {
   "cell_type": "code",
   "execution_count": 470,
   "metadata": {
    "collapsed": false
   },
   "outputs": [
    {
     "name": "stdout",
     "output_type": "stream",
     "text": [
      "Populating the interactive namespace from numpy and matplotlib\n"
     ]
    }
   ],
   "source": [
    "            \n",
    "%pylab inline\n",
    "count_per_project = DataFrame(data=counter_detail,\n",
    "    columns=[\"num_failed_builds\", \"team_size\", \"num_tests_ok\", \"num_tests_run\", \"test_ok_percent\", \"test_ok_delta_percent\", \"num_duration_days\",\"num_sloc\", \"num_test_deleated\", \"porject_name\"])\n",
    "#count_per_project = count_per_project.groupby(\"team_size\")\n"
   ]
  },
  {
   "cell_type": "markdown",
   "metadata": {},
   "source": [
    "## Projects that contains sequences > 150 days open "
   ]
  },
  {
   "cell_type": "code",
   "execution_count": 461,
   "metadata": {
    "collapsed": false
   },
   "outputs": [
    {
     "name": "stdout",
     "output_type": "stream",
     "text": [
      "584  days  assaf/vanity\n",
      "561  days  codez/dry_crud\n",
      "561  days  codez/dry_crud\n",
      "513  days  guard/guard-spork\n",
      "912  days  nbudin/devise_cas_authenticatable\n",
      "912  days  nbudin/devise_cas_authenticatable\n",
      "549  days  morgoth/picasa\n",
      "549  days  morgoth/picasa\n",
      "637  days  apache/drill\n",
      "730  days  mongoid/origin\n",
      "572  days  lodge/lodge\n",
      "621  days  marubinotto/Piggydb\n",
      "Green within one day:  29257\n"
     ]
    }
   ],
   "source": [
    "one_day_count = 0\n",
    "for detail in counter_detail:\n",
    "    if detail[6] > 500:\n",
    "        print(detail[6], \" days \", detail[-1])\n",
    "    if detail[6] < 1:\n",
    "        one_day_count += 1\n",
    "print(\"Green within one day: \", one_day_count)"
   ]
  },
  {
   "cell_type": "markdown",
   "metadata": {},
   "source": [
    "## Percentage of passed tests vs lenght of a sequence "
   ]
  },
  {
   "cell_type": "code",
   "execution_count": 488,
   "metadata": {
    "collapsed": false
   },
   "outputs": [
    {
     "data": {
      "text/plain": [
       "<matplotlib.axes._subplots.AxesSubplot at 0x28121ebe0>"
      ]
     },
     "execution_count": 488,
     "metadata": {},
     "output_type": "execute_result"
    },
    {
     "data": {
      "image/png": "[encoded data removed]",
      "text/plain": [
       "<matplotlib.figure.Figure at 0x281b21240>"
      ]
     },
     "metadata": {},
     "output_type": "display_data"
    }
   ],
   "source": [
    "    count_per_project.plot(x=\"num_duration_days\", y =\"test_ok_percent\", s=count_per_project[\"num_sloc\"]/1000,kind=\"scatter\", xlim=(0, 300), ylim=(0, 100))"
   ]
  },
  {
   "cell_type": "markdown",
   "metadata": {},
   "source": [
    " "
   ]
  },
  {
   "cell_type": "code",
   "execution_count": null,
   "metadata": {
    "collapsed": true
   },
   "outputs": [],
   "source": [
    "## Team size vs number of builds in a sequence "
   ]
  },
  {
   "cell_type": "code",
   "execution_count": 463,
   "metadata": {
    "collapsed": false
   },
   "outputs": [
    {
     "data": {
      "text/plain": [
       "<matplotlib.axes._subplots.AxesSubplot at 0x2791157b8>"
      ]
     },
     "execution_count": 463,
     "metadata": {},
     "output_type": "execute_result"
    },
    {
     "data": {
      "image/png": "[encoded data removed]",
      "text/plain": [
       "<matplotlib.figure.Figure at 0x27a07d4e0>"
      ]
     },
     "metadata": {},
     "output_type": "display_data"
    }
   ],
   "source": [
    "count_per_project.plot(x=\"num_failed_builds\", y =\"team_size\",kind=\"scatter\", xlim=(0, 150), ylim=(0, 300))"
   ]
  },
  {
   "cell_type": "markdown",
   "metadata": {},
   "source": [
    "## Number of failed builds in a sequence vs the maximum deterioration of test results "
   ]
  },
  {
   "cell_type": "code",
   "execution_count": 468,
   "metadata": {
    "collapsed": false
   },
   "outputs": [
    {
     "data": {
      "text/plain": [
       "<matplotlib.axes._subplots.AxesSubplot at 0x27b467160>"
      ]
     },
     "execution_count": 468,
     "metadata": {},
     "output_type": "execute_result"
    },
    {
     "data": {
      "image/png": "[encoded data removed]",
      "text/plain": [
       "<matplotlib.figure.Figure at 0x27b45d048>"
      ]
     },
     "metadata": {},
     "output_type": "display_data"
    }
   ],
   "source": [
    "count_per_project.plot(x=\"num_failed_builds\", y =\"test_ok_delta_percent\", s=count_per_project[\"num_tests_run\"]/100,kind=\"scatter\", xlim=(0, 60), ylim=(0, 100))"
   ]
  }
 ],
 "metadata": {
  "anaconda-cloud": {},
  "kernelspec": {
   "display_name": "Python [conda root]",
   "language": "python",
   "name": "conda-root-py"
  },
  "language_info": {
   "codemirror_mode": {
    "name": "ipython",
    "version": 3
   },
   "file_extension": ".py",
   "mimetype": "text/x-python",
   "name": "python",
   "nbconvert_exporter": "python",
   "pygments_lexer": "ipython3",
   "version": "3.5.2"
  }
 },
 "nbformat": 4,
 "nbformat_minor": 1
}
