{
 "cells": [
  {
   "cell_type": "markdown",
   "metadata": {},
   "source": [
    "# Häufigkeit und Verteilung der Commits im Build"
   ]
  },
  {
   "cell_type": "code",
   "execution_count": 6,
   "metadata": {
    "collapsed": false
   },
   "outputs": [
    {
     "data": {
      "text/plain": [
       "count    680209.000000\n",
       "mean          1.807342\n",
       "std          60.138829\n",
       "min           1.000000\n",
       "25%           1.000000\n",
       "50%           1.000000\n",
       "75%           1.000000\n",
       "max       33410.000000\n",
       "Name: git_num_all_built_commits, dtype: float64"
      ]
     },
     "execution_count": 6,
     "metadata": {},
     "output_type": "execute_result"
    }
   ],
   "source": [
    "import dask.dataframe as dd\n",
    "import pandas as pd\n",
    "df = dd.read_csv('data/travistorrent_11_1_2017.csv',blocksize=25000000,usecols=['tr_build_id','git_num_all_built_commits'])\n",
    "pdf = df.drop_duplicates().compute()\n",
    "pdf['git_num_all_built_commits'].describe()"
   ]
  },
  {
   "cell_type": "code",
   "execution_count": 7,
   "metadata": {
    "collapsed": false
   },
   "outputs": [
    {
     "name": "stdout",
     "output_type": "stream",
     "text": [
      "Populating the interactive namespace from numpy and matplotlib\n"
     ]
    },
    {
     "name": "stderr",
     "output_type": "stream",
     "text": [
      "C:\\Users\\haup_ca\\AppData\\Local\\Continuum\\Anaconda3\\lib\\site-packages\\ipykernel\\__main__.py:2: FutureWarning: \n",
      "The default value for 'return_type' will change to 'axes' in a future release.\n",
      " To use the future behavior now, set return_type='axes'.\n",
      " To keep the previous behavior and silence this warning, set return_type='dict'.\n",
      "  from ipykernel import kernelapp as app\n"
     ]
    },
    {
     "data": {
      "text/plain": [
       "{'boxes': [<matplotlib.lines.Line2D at 0xaeb62b0>],\n",
       " 'caps': [<matplotlib.lines.Line2D at 0x9686d30>,\n",
       "  <matplotlib.lines.Line2D at 0x9686eb8>],\n",
       " 'fliers': [<matplotlib.lines.Line2D at 0x9689e10>],\n",
       " 'means': [],\n",
       " 'medians': [<matplotlib.lines.Line2D at 0x96895f8>],\n",
       " 'whiskers': [<matplotlib.lines.Line2D at 0xaeb6cc0>,\n",
       "  <matplotlib.lines.Line2D at 0xaeb6e48>]}"
      ]
     },
     "execution_count": 7,
     "metadata": {},
     "output_type": "execute_result"
    },
    {
     "data": {
      "image/png": "[encoded data removed]",
      "text/plain": [
       "<matplotlib.figure.Figure at 0x928f358>"
      ]
     },
     "metadata": {},
     "output_type": "display_data"
    }
   ],
   "source": [
    "%pylab inline\n",
    "pdf.boxplot('git_num_all_built_commits')"
   ]
  },
  {
   "cell_type": "code",
   "execution_count": 8,
   "metadata": {
    "collapsed": false
   },
   "outputs": [
    {
     "data": {
      "text/plain": [
       "count    557211.0\n",
       "mean          1.0\n",
       "std           0.0\n",
       "min           1.0\n",
       "25%           1.0\n",
       "50%           1.0\n",
       "75%           1.0\n",
       "max           1.0\n",
       "Name: git_num_all_built_commits, dtype: float64"
      ]
     },
     "execution_count": 8,
     "metadata": {},
     "output_type": "execute_result"
    }
   ],
   "source": [
    "pdf_just_one_commit = pdf[pdf.git_num_all_built_commits == 1]\n",
    "pdf_just_one_commit['git_num_all_built_commits'].describe() # größtenteils unspektakulär, aber einfacher Weg für count"
   ]
  },
  {
   "cell_type": "code",
   "execution_count": 10,
   "metadata": {
    "collapsed": false
   },
   "outputs": [
    {
     "data": {
      "text/plain": [
       "81.91761649728245"
      ]
     },
     "execution_count": 10,
     "metadata": {},
     "output_type": "execute_result"
    }
   ],
   "source": [
    "float(557211)/680209*100"
   ]
  },
  {
   "cell_type": "markdown",
   "metadata": {},
   "source": [
    "Ergebnis: Die meisten Builds beinhalten nur 1 Commit (557.211 von 680.209, also ~82%). Es gibt jedoch auch Builds mit unerwartet hohen Commit Zahlen (~35.000)."
   ]
  },
  {
   "cell_type": "markdown",
   "metadata": {},
   "source": [
    "## Betrachtung einer Range"
   ]
  },
  {
   "cell_type": "code",
   "execution_count": 15,
   "metadata": {
    "collapsed": true
   },
   "outputs": [],
   "source": [
    "pdfrange = pdf[(pdf.git_num_all_built_commits > 10) & (pdf.git_num_all_built_commits <500)]"
   ]
  },
  {
   "cell_type": "code",
   "execution_count": 16,
   "metadata": {
    "collapsed": false
   },
   "outputs": [
    {
     "name": "stdout",
     "output_type": "stream",
     "text": [
      "Populating the interactive namespace from numpy and matplotlib\n"
     ]
    },
    {
     "name": "stderr",
     "output_type": "stream",
     "text": [
      "C:\\Users\\haup_ca\\AppData\\Local\\Continuum\\Anaconda3\\lib\\site-packages\\ipykernel\\__main__.py:2: FutureWarning: \n",
      "The default value for 'return_type' will change to 'axes' in a future release.\n",
      " To use the future behavior now, set return_type='axes'.\n",
      " To keep the previous behavior and silence this warning, set return_type='dict'.\n",
      "  from ipykernel import kernelapp as app\n"
     ]
    },
    {
     "data": {
      "text/plain": [
       "{'boxes': [<matplotlib.lines.Line2D at 0xb2256d8>],\n",
       " 'caps': [<matplotlib.lines.Line2D at 0xb22bf60>,\n",
       "  <matplotlib.lines.Line2D at 0xb22f898>],\n",
       " 'fliers': [<matplotlib.lines.Line2D at 0xb233908>],\n",
       " 'means': [],\n",
       " 'medians': [<matplotlib.lines.Line2D at 0xb22fa20>],\n",
       " 'whiskers': [<matplotlib.lines.Line2D at 0xb225978>,\n",
       "  <matplotlib.lines.Line2D at 0xb22b940>]}"
      ]
     },
     "execution_count": 16,
     "metadata": {},
     "output_type": "execute_result"
    },
    {
     "data": {
      "image/png": "[encoded data removed]",
      "text/plain": [
       "<matplotlib.figure.Figure at 0xb15b1d0>"
      ]
     },
     "metadata": {},
     "output_type": "display_data"
    }
   ],
   "source": [
    "%pylab inline\n",
    "pdfrange.boxplot('git_num_all_built_commits')"
   ]
  },
  {
   "cell_type": "code",
   "execution_count": 17,
   "metadata": {
    "collapsed": false
   },
   "outputs": [
    {
     "data": {
      "text/plain": [
       "count    5012.000000\n",
       "mean       29.660215\n",
       "std        45.380399\n",
       "min        11.000000\n",
       "25%        12.000000\n",
       "50%        16.000000\n",
       "75%        26.000000\n",
       "max       478.000000\n",
       "Name: git_num_all_built_commits, dtype: float64"
      ]
     },
     "execution_count": 17,
     "metadata": {},
     "output_type": "execute_result"
    }
   ],
   "source": [
    "pdfrange['git_num_all_built_commits'].describe()"
   ]
  },
  {
   "cell_type": "code",
   "execution_count": 18,
   "metadata": {
    "collapsed": false
   },
   "outputs": [
    {
     "data": {
      "text/plain": [
       "array([[<matplotlib.axes._subplots.AxesSubplot object at 0x000000000AE349E8>]], dtype=object)"
      ]
     },
     "execution_count": 18,
     "metadata": {},
     "output_type": "execute_result"
    },
    {
     "data": {
      "image/png": "[encoded data removed]",
      "text/plain": [
       "<matplotlib.figure.Figure at 0xb15ed68>"
      ]
     },
     "metadata": {},
     "output_type": "display_data"
    }
   ],
   "source": [
    "pdfrange.hist(column='git_num_all_built_commits',bins=200)"
   ]
  },
  {
   "cell_type": "markdown",
   "metadata": {},
   "source": [
    "Ergebnis: Die meisten Builds beinhalten nur wenige Commits. Hier kann man sich die Verteilung je nach gewählter Range anschauen.\n"
   ]
  },
  {
   "cell_type": "markdown",
   "metadata": {},
   "source": [
    "# Verteilung der Commits auf Build pro PROJEKT"
   ]
  },
  {
   "cell_type": "code",
   "execution_count": 19,
   "metadata": {
    "collapsed": false
   },
   "outputs": [],
   "source": [
    "import dask.dataframe as dd\n",
    "import pandas as pd\n",
    "\n",
    "def sloc_percent(row):\n",
    "    # calculate percentage of changes lines of source code\n",
    "    row['sloc_precent'] = 100*(row.git_diff_src_churn.astype('float')/row.gh_sloc.astype('float'))\n",
    "    return row\n",
    "    \n",
    "\n",
    "df = dd.read_csv('data/travistorrent_11_1_2017.csv',blocksize=25000000,usecols=['tr_build_id','gh_project_name','git_num_all_built_commits','gh_is_pr','git_trigger_commit','gh_sloc','git_diff_src_churn','gh_diff_files_added','gh_diff_files_deleted','gh_diff_files_modified'])\n",
    "pdf = df.drop_duplicates().map_partitions(sloc_percent).compute()"
   ]
  },
  {
   "cell_type": "markdown",
   "metadata": {},
   "source": [
    "## Absteigend (Große Anzahl Commits)"
   ]
  },
  {
   "cell_type": "code",
   "execution_count": 21,
   "metadata": {
    "collapsed": false
   },
   "outputs": [
    {
     "data": {
      "text/html": [
       "<div>\n",
       "<table border=\"1\" class=\"dataframe\">\n",
       "  <thead>\n",
       "    <tr style=\"text-align: right;\">\n",
       "      <th></th>\n",
       "      <th>tr_build_id</th>\n",
       "      <th>gh_project_name</th>\n",
       "      <th>gh_is_pr</th>\n",
       "      <th>git_num_all_built_commits</th>\n",
       "      <th>git_trigger_commit</th>\n",
       "      <th>git_diff_src_churn</th>\n",
       "      <th>gh_diff_files_added</th>\n",
       "      <th>gh_diff_files_deleted</th>\n",
       "      <th>gh_diff_files_modified</th>\n",
       "      <th>gh_sloc</th>\n",
       "      <th>sloc_precent</th>\n",
       "    </tr>\n",
       "  </thead>\n",
       "  <tbody>\n",
       "    <tr>\n",
       "      <th>18417</th>\n",
       "      <td>7433531</td>\n",
       "      <td>FenixEdu/fenixedu-academic</td>\n",
       "      <td>False</td>\n",
       "      <td>33410</td>\n",
       "      <td>ec932579f1b4bb4d65514af8015e864d2b682b77</td>\n",
       "      <td>5278263</td>\n",
       "      <td>24440</td>\n",
       "      <td>8993</td>\n",
       "      <td>20925</td>\n",
       "      <td>598335</td>\n",
       "      <td>882.158490</td>\n",
       "    </tr>\n",
       "    <tr>\n",
       "      <th>22136</th>\n",
       "      <td>18316469</td>\n",
       "      <td>ruby/ruby</td>\n",
       "      <td>False</td>\n",
       "      <td>20728</td>\n",
       "      <td>a161f1243550930a38028d58ed6d5f2ae9b6a38b</td>\n",
       "      <td>1656517</td>\n",
       "      <td>4445</td>\n",
       "      <td>1041</td>\n",
       "      <td>3153</td>\n",
       "      <td>366875</td>\n",
       "      <td>451.520818</td>\n",
       "    </tr>\n",
       "    <tr>\n",
       "      <th>19887</th>\n",
       "      <td>417490</td>\n",
       "      <td>ruby/ruby</td>\n",
       "      <td>False</td>\n",
       "      <td>20578</td>\n",
       "      <td>63783f2c9735c6ce9605fde4c658ac9cd6df4c8b</td>\n",
       "      <td>1651401</td>\n",
       "      <td>4511</td>\n",
       "      <td>1004</td>\n",
       "      <td>3148</td>\n",
       "      <td>366818</td>\n",
       "      <td>450.196283</td>\n",
       "    </tr>\n",
       "    <tr>\n",
       "      <th>25321</th>\n",
       "      <td>97503617</td>\n",
       "      <td>apache/sling</td>\n",
       "      <td>False</td>\n",
       "      <td>11851</td>\n",
       "      <td>39b5cee1deba043e166fc78d2c907c3db597a340</td>\n",
       "      <td>834545</td>\n",
       "      <td>6394</td>\n",
       "      <td>1828</td>\n",
       "      <td>5525</td>\n",
       "      <td>259661</td>\n",
       "      <td>321.397900</td>\n",
       "    </tr>\n",
       "    <tr>\n",
       "      <th>7615</th>\n",
       "      <td>578024</td>\n",
       "      <td>ruby/ruby</td>\n",
       "      <td>False</td>\n",
       "      <td>9742</td>\n",
       "      <td>087b9f941782eaee566197d61b8d7f471a3d9a64</td>\n",
       "      <td>977041</td>\n",
       "      <td>2999</td>\n",
       "      <td>397</td>\n",
       "      <td>1875</td>\n",
       "      <td>195097</td>\n",
       "      <td>500.797552</td>\n",
       "    </tr>\n",
       "    <tr>\n",
       "      <th>5610</th>\n",
       "      <td>343348</td>\n",
       "      <td>ruby/ruby</td>\n",
       "      <td>False</td>\n",
       "      <td>8460</td>\n",
       "      <td>20c8803697df39a086175a5eb2f8e8ee00bf1e2f</td>\n",
       "      <td>980135</td>\n",
       "      <td>2910</td>\n",
       "      <td>407</td>\n",
       "      <td>1822</td>\n",
       "      <td>177953</td>\n",
       "      <td>550.783072</td>\n",
       "    </tr>\n",
       "    <tr>\n",
       "      <th>1166</th>\n",
       "      <td>7165274</td>\n",
       "      <td>orbeon/orbeon-forms</td>\n",
       "      <td>False</td>\n",
       "      <td>6696</td>\n",
       "      <td>669ed9c29ce81675f5bb0cd0a8843968484a607a</td>\n",
       "      <td>366155</td>\n",
       "      <td>4081</td>\n",
       "      <td>1795</td>\n",
       "      <td>2134</td>\n",
       "      <td>67729</td>\n",
       "      <td>540.617756</td>\n",
       "    </tr>\n",
       "    <tr>\n",
       "      <th>29188</th>\n",
       "      <td>1494869</td>\n",
       "      <td>CloudifySource/cloudify</td>\n",
       "      <td>False</td>\n",
       "      <td>4178</td>\n",
       "      <td>4d48ae7f41c6fc015be3e81d0d2e34e6ed301462</td>\n",
       "      <td>176959</td>\n",
       "      <td>1633</td>\n",
       "      <td>448</td>\n",
       "      <td>848</td>\n",
       "      <td>28589</td>\n",
       "      <td>618.975830</td>\n",
       "    </tr>\n",
       "    <tr>\n",
       "      <th>5611</th>\n",
       "      <td>343364</td>\n",
       "      <td>ruby/ruby</td>\n",
       "      <td>False</td>\n",
       "      <td>4002</td>\n",
       "      <td>c36ee7bd385991f4eda57b043379ced9a7c21d1b</td>\n",
       "      <td>152806</td>\n",
       "      <td>361</td>\n",
       "      <td>84</td>\n",
       "      <td>1575</td>\n",
       "      <td>375237</td>\n",
       "      <td>40.722530</td>\n",
       "    </tr>\n",
       "    <tr>\n",
       "      <th>27344</th>\n",
       "      <td>17741198</td>\n",
       "      <td>apache/jackrabbit-oak</td>\n",
       "      <td>False</td>\n",
       "      <td>3586</td>\n",
       "      <td>eaad6eb7157c4354553285e871f90af44c6fdd65</td>\n",
       "      <td>395451</td>\n",
       "      <td>1348</td>\n",
       "      <td>474</td>\n",
       "      <td>1378</td>\n",
       "      <td>63677</td>\n",
       "      <td>621.026430</td>\n",
       "    </tr>\n",
       "    <tr>\n",
       "      <th>4905</th>\n",
       "      <td>7238491</td>\n",
       "      <td>orbeon/orbeon-forms</td>\n",
       "      <td>False</td>\n",
       "      <td>3405</td>\n",
       "      <td>c8c2b5815a3983c38613aed8083aecb1a64a4b96</td>\n",
       "      <td>201786</td>\n",
       "      <td>2283</td>\n",
       "      <td>457</td>\n",
       "      <td>1463</td>\n",
       "      <td>63485</td>\n",
       "      <td>317.848311</td>\n",
       "    </tr>\n",
       "    <tr>\n",
       "      <th>17901</th>\n",
       "      <td>110476984</td>\n",
       "      <td>google/guava</td>\n",
       "      <td>False</td>\n",
       "      <td>3293</td>\n",
       "      <td>1aaf7ae4b4b2773664d2462a258de506f7e1de73</td>\n",
       "      <td>522375</td>\n",
       "      <td>2641</td>\n",
       "      <td>534</td>\n",
       "      <td>2166</td>\n",
       "      <td>101680</td>\n",
       "      <td>513.744099</td>\n",
       "    </tr>\n",
       "    <tr>\n",
       "      <th>7547</th>\n",
       "      <td>354579</td>\n",
       "      <td>ruby/ruby</td>\n",
       "      <td>False</td>\n",
       "      <td>3271</td>\n",
       "      <td>ee490943c14e214cf9bee3d488d1ec6ba9b886fa</td>\n",
       "      <td>138256</td>\n",
       "      <td>335</td>\n",
       "      <td>73</td>\n",
       "      <td>1439</td>\n",
       "      <td>374951</td>\n",
       "      <td>36.873085</td>\n",
       "    </tr>\n",
       "    <tr>\n",
       "      <th>2174</th>\n",
       "      <td>17118420</td>\n",
       "      <td>zxing/zxing</td>\n",
       "      <td>False</td>\n",
       "      <td>2671</td>\n",
       "      <td>800fee3472706b90abd93744d14b357c9055817a</td>\n",
       "      <td>629403</td>\n",
       "      <td>6091</td>\n",
       "      <td>2949</td>\n",
       "      <td>2596</td>\n",
       "      <td>34436</td>\n",
       "      <td>1827.747125</td>\n",
       "    </tr>\n",
       "    <tr>\n",
       "      <th>19466</th>\n",
       "      <td>25133936</td>\n",
       "      <td>weld/core</td>\n",
       "      <td>False</td>\n",
       "      <td>1622</td>\n",
       "      <td>578deab27c5658cfecb61bfbd6b79b593a73958e</td>\n",
       "      <td>121354</td>\n",
       "      <td>2301</td>\n",
       "      <td>383</td>\n",
       "      <td>1818</td>\n",
       "      <td>47418</td>\n",
       "      <td>255.923911</td>\n",
       "    </tr>\n",
       "    <tr>\n",
       "      <th>17466</th>\n",
       "      <td>154085902</td>\n",
       "      <td>apache/flink</td>\n",
       "      <td>False</td>\n",
       "      <td>1487</td>\n",
       "      <td>bc40b1b8e5b6575cc80bf2c8e3b10556de065b78</td>\n",
       "      <td>494418</td>\n",
       "      <td>1473</td>\n",
       "      <td>968</td>\n",
       "      <td>3680</td>\n",
       "      <td>115306</td>\n",
       "      <td>428.787747</td>\n",
       "    </tr>\n",
       "    <tr>\n",
       "      <th>23655</th>\n",
       "      <td>69427307</td>\n",
       "      <td>eXist-db/exist</td>\n",
       "      <td>False</td>\n",
       "      <td>1473</td>\n",
       "      <td>6830b73edbb6dbe13f7acb03da9fc6f9ec34b881</td>\n",
       "      <td>142912</td>\n",
       "      <td>756</td>\n",
       "      <td>154</td>\n",
       "      <td>1102</td>\n",
       "      <td>193210</td>\n",
       "      <td>73.967186</td>\n",
       "    </tr>\n",
       "    <tr>\n",
       "      <th>15558</th>\n",
       "      <td>29519886</td>\n",
       "      <td>google/guice</td>\n",
       "      <td>True</td>\n",
       "      <td>1259</td>\n",
       "      <td>6b75abb411fb236cb1830da188c727a21e72fa10</td>\n",
       "      <td>237225</td>\n",
       "      <td>3296</td>\n",
       "      <td>1671</td>\n",
       "      <td>1505</td>\n",
       "      <td>19717</td>\n",
       "      <td>1203.149566</td>\n",
       "    </tr>\n",
       "    <tr>\n",
       "      <th>15940</th>\n",
       "      <td>29529517</td>\n",
       "      <td>google/guice</td>\n",
       "      <td>False</td>\n",
       "      <td>1259</td>\n",
       "      <td>48efa1fffa92e37cfaf4ef9bfb9313ca6b61cb19</td>\n",
       "      <td>238749</td>\n",
       "      <td>3295</td>\n",
       "      <td>1862</td>\n",
       "      <td>1505</td>\n",
       "      <td>19717</td>\n",
       "      <td>1210.878937</td>\n",
       "    </tr>\n",
       "    <tr>\n",
       "      <th>17471</th>\n",
       "      <td>154085970</td>\n",
       "      <td>apache/flink</td>\n",
       "      <td>False</td>\n",
       "      <td>1130</td>\n",
       "      <td>6b52efed5cc9bd6e5bb523645b3275af14a78148</td>\n",
       "      <td>429366</td>\n",
       "      <td>1169</td>\n",
       "      <td>846</td>\n",
       "      <td>3319</td>\n",
       "      <td>110417</td>\n",
       "      <td>388.858600</td>\n",
       "    </tr>\n",
       "  </tbody>\n",
       "</table>\n",
       "</div>"
      ],
      "text/plain": [
       "       tr_build_id             gh_project_name gh_is_pr  \\\n",
       "18417      7433531  FenixEdu/fenixedu-academic    False   \n",
       "22136     18316469                   ruby/ruby    False   \n",
       "19887       417490                   ruby/ruby    False   \n",
       "25321     97503617                apache/sling    False   \n",
       "7615        578024                   ruby/ruby    False   \n",
       "5610        343348                   ruby/ruby    False   \n",
       "1166       7165274         orbeon/orbeon-forms    False   \n",
       "29188      1494869     CloudifySource/cloudify    False   \n",
       "5611        343364                   ruby/ruby    False   \n",
       "27344     17741198       apache/jackrabbit-oak    False   \n",
       "4905       7238491         orbeon/orbeon-forms    False   \n",
       "17901    110476984                google/guava    False   \n",
       "7547        354579                   ruby/ruby    False   \n",
       "2174      17118420                 zxing/zxing    False   \n",
       "19466     25133936                   weld/core    False   \n",
       "17466    154085902                apache/flink    False   \n",
       "23655     69427307              eXist-db/exist    False   \n",
       "15558     29519886                google/guice     True   \n",
       "15940     29529517                google/guice    False   \n",
       "17471    154085970                apache/flink    False   \n",
       "\n",
       "       git_num_all_built_commits                        git_trigger_commit  \\\n",
       "18417                      33410  ec932579f1b4bb4d65514af8015e864d2b682b77   \n",
       "22136                      20728  a161f1243550930a38028d58ed6d5f2ae9b6a38b   \n",
       "19887                      20578  63783f2c9735c6ce9605fde4c658ac9cd6df4c8b   \n",
       "25321                      11851  39b5cee1deba043e166fc78d2c907c3db597a340   \n",
       "7615                        9742  087b9f941782eaee566197d61b8d7f471a3d9a64   \n",
       "5610                        8460  20c8803697df39a086175a5eb2f8e8ee00bf1e2f   \n",
       "1166                        6696  669ed9c29ce81675f5bb0cd0a8843968484a607a   \n",
       "29188                       4178  4d48ae7f41c6fc015be3e81d0d2e34e6ed301462   \n",
       "5611                        4002  c36ee7bd385991f4eda57b043379ced9a7c21d1b   \n",
       "27344                       3586  eaad6eb7157c4354553285e871f90af44c6fdd65   \n",
       "4905                        3405  c8c2b5815a3983c38613aed8083aecb1a64a4b96   \n",
       "17901                       3293  1aaf7ae4b4b2773664d2462a258de506f7e1de73   \n",
       "7547                        3271  ee490943c14e214cf9bee3d488d1ec6ba9b886fa   \n",
       "2174                        2671  800fee3472706b90abd93744d14b357c9055817a   \n",
       "19466                       1622  578deab27c5658cfecb61bfbd6b79b593a73958e   \n",
       "17466                       1487  bc40b1b8e5b6575cc80bf2c8e3b10556de065b78   \n",
       "23655                       1473  6830b73edbb6dbe13f7acb03da9fc6f9ec34b881   \n",
       "15558                       1259  6b75abb411fb236cb1830da188c727a21e72fa10   \n",
       "15940                       1259  48efa1fffa92e37cfaf4ef9bfb9313ca6b61cb19   \n",
       "17471                       1130  6b52efed5cc9bd6e5bb523645b3275af14a78148   \n",
       "\n",
       "       git_diff_src_churn  gh_diff_files_added  gh_diff_files_deleted  \\\n",
       "18417             5278263                24440                   8993   \n",
       "22136             1656517                 4445                   1041   \n",
       "19887             1651401                 4511                   1004   \n",
       "25321              834545                 6394                   1828   \n",
       "7615               977041                 2999                    397   \n",
       "5610               980135                 2910                    407   \n",
       "1166               366155                 4081                   1795   \n",
       "29188              176959                 1633                    448   \n",
       "5611               152806                  361                     84   \n",
       "27344              395451                 1348                    474   \n",
       "4905               201786                 2283                    457   \n",
       "17901              522375                 2641                    534   \n",
       "7547               138256                  335                     73   \n",
       "2174               629403                 6091                   2949   \n",
       "19466              121354                 2301                    383   \n",
       "17466              494418                 1473                    968   \n",
       "23655              142912                  756                    154   \n",
       "15558              237225                 3296                   1671   \n",
       "15940              238749                 3295                   1862   \n",
       "17471              429366                 1169                    846   \n",
       "\n",
       "       gh_diff_files_modified  gh_sloc  sloc_precent  \n",
       "18417                   20925   598335    882.158490  \n",
       "22136                    3153   366875    451.520818  \n",
       "19887                    3148   366818    450.196283  \n",
       "25321                    5525   259661    321.397900  \n",
       "7615                     1875   195097    500.797552  \n",
       "5610                     1822   177953    550.783072  \n",
       "1166                     2134    67729    540.617756  \n",
       "29188                     848    28589    618.975830  \n",
       "5611                     1575   375237     40.722530  \n",
       "27344                    1378    63677    621.026430  \n",
       "4905                     1463    63485    317.848311  \n",
       "17901                    2166   101680    513.744099  \n",
       "7547                     1439   374951     36.873085  \n",
       "2174                     2596    34436   1827.747125  \n",
       "19466                    1818    47418    255.923911  \n",
       "17466                    3680   115306    428.787747  \n",
       "23655                    1102   193210     73.967186  \n",
       "15558                    1505    19717   1203.149566  \n",
       "15940                    1505    19717   1210.878937  \n",
       "17471                    3319   110417    388.858600  "
      ]
     },
     "execution_count": 21,
     "metadata": {},
     "output_type": "execute_result"
    }
   ],
   "source": [
    "pdf.sort_values('git_num_all_built_commits',inplace=True,ascending=False)\n",
    "pdf.head(20)"
   ]
  },
  {
   "cell_type": "markdown",
   "metadata": {},
   "source": [
    "Ergebnis: Builds mit sehr hohen Commit-Zahlen sind meist durch eines der folgenden Szenarien zu erklären:\n",
    "        * TravisCI eingeführt\n",
    "        * TravisCI in PR eingeführt (bei tr_is_pr == True)\n",
    "        * SVN-Git-Transfer\n",
    "        * Umzug Branch\n",
    "        * ...\n",
    "        Diese Szenarien haben wir duch manuelle überprüfung des letzten Commits erhalten.\n",
    "        In all diesen Fällen wird zum letzten, ggf. nicht existentem, Build zurück gegangen. Die hohen Prozentzahlen bei den geänderten Source Code Zeilen bestätigen diese Vermutung.\n",
    "TODO: Thesis durch Fakten belegen. Diese müssten aus GitHub direkt gezogen werden."
   ]
  },
  {
   "cell_type": "markdown",
   "metadata": {},
   "source": [
    "## Aufsteigend (Kleine Anzahl Commits)"
   ]
  },
  {
   "cell_type": "code",
   "execution_count": 49,
   "metadata": {
    "collapsed": false
   },
   "outputs": [
    {
     "data": {
      "text/html": [
       "<div>\n",
       "<table border=\"1\" class=\"dataframe\">\n",
       "  <thead>\n",
       "    <tr style=\"text-align: right;\">\n",
       "      <th></th>\n",
       "      <th>tr_build_id</th>\n",
       "      <th>gh_project_name</th>\n",
       "      <th>gh_is_pr</th>\n",
       "      <th>git_num_all_built_commits</th>\n",
       "      <th>git_trigger_commit</th>\n",
       "      <th>gh_diff_files_added</th>\n",
       "      <th>gh_diff_files_deleted</th>\n",
       "      <th>gh_diff_files_modified</th>\n",
       "    </tr>\n",
       "  </thead>\n",
       "  <tbody>\n",
       "    <tr>\n",
       "      <th>5303</th>\n",
       "      <td>72460790</td>\n",
       "      <td>ruby-concurrency/concurrent-ruby</td>\n",
       "      <td>False</td>\n",
       "      <td>1</td>\n",
       "      <td>afea68fb082605433cfecaa3f5df3709d7211069</td>\n",
       "      <td>0</td>\n",
       "      <td>0</td>\n",
       "      <td>1</td>\n",
       "    </tr>\n",
       "    <tr>\n",
       "      <th>28350</th>\n",
       "      <td>11461813</td>\n",
       "      <td>maxcom/lorsource</td>\n",
       "      <td>False</td>\n",
       "      <td>1</td>\n",
       "      <td>d84eb84401fc0d734baffc4c8f263cb1fb54d80b</td>\n",
       "      <td>0</td>\n",
       "      <td>0</td>\n",
       "      <td>2</td>\n",
       "    </tr>\n",
       "    <tr>\n",
       "      <th>28352</th>\n",
       "      <td>11461819</td>\n",
       "      <td>muffinista/chatterbot</td>\n",
       "      <td>False</td>\n",
       "      <td>1</td>\n",
       "      <td>0fa1632f45d1fd8011336fe0f3bf36e084434c80</td>\n",
       "      <td>0</td>\n",
       "      <td>0</td>\n",
       "      <td>1</td>\n",
       "    </tr>\n",
       "    <tr>\n",
       "      <th>28356</th>\n",
       "      <td>11462023</td>\n",
       "      <td>openSUSE/open-build-service</td>\n",
       "      <td>False</td>\n",
       "      <td>1</td>\n",
       "      <td>faba7cd54bd916e5c16512ef0826c7f72ed11e78</td>\n",
       "      <td>0</td>\n",
       "      <td>0</td>\n",
       "      <td>1</td>\n",
       "    </tr>\n",
       "    <tr>\n",
       "      <th>28361</th>\n",
       "      <td>11462060</td>\n",
       "      <td>puniverse/quasar</td>\n",
       "      <td>False</td>\n",
       "      <td>1</td>\n",
       "      <td>c8deebf2e4fb5b0a6960dd2205938bf50abc26dc</td>\n",
       "      <td>0</td>\n",
       "      <td>0</td>\n",
       "      <td>3</td>\n",
       "    </tr>\n",
       "    <tr>\n",
       "      <th>28362</th>\n",
       "      <td>11462104</td>\n",
       "      <td>inossidabile/protector</td>\n",
       "      <td>False</td>\n",
       "      <td>1</td>\n",
       "      <td>194dadfc8a80069c6b132c0687a008cf1ea56ebe</td>\n",
       "      <td>0</td>\n",
       "      <td>0</td>\n",
       "      <td>1</td>\n",
       "    </tr>\n",
       "    <tr>\n",
       "      <th>28365</th>\n",
       "      <td>11462377</td>\n",
       "      <td>inossidabile/protector</td>\n",
       "      <td>False</td>\n",
       "      <td>1</td>\n",
       "      <td>b35bbf46b66c731cef5586aa29eb1ebf6b69b91f</td>\n",
       "      <td>0</td>\n",
       "      <td>0</td>\n",
       "      <td>1</td>\n",
       "    </tr>\n",
       "    <tr>\n",
       "      <th>28380</th>\n",
       "      <td>11462541</td>\n",
       "      <td>grosser/fast_gettext</td>\n",
       "      <td>True</td>\n",
       "      <td>1</td>\n",
       "      <td>270c7ade92bbcf83f915f4cbfa49abfe3a7afbac</td>\n",
       "      <td>0</td>\n",
       "      <td>0</td>\n",
       "      <td>1</td>\n",
       "    </tr>\n",
       "    <tr>\n",
       "      <th>28378</th>\n",
       "      <td>11462445</td>\n",
       "      <td>maxcom/lorsource</td>\n",
       "      <td>False</td>\n",
       "      <td>1</td>\n",
       "      <td>c64b4e7042faae361eed3e9c04054d01bc12ab70</td>\n",
       "      <td>0</td>\n",
       "      <td>0</td>\n",
       "      <td>1</td>\n",
       "    </tr>\n",
       "    <tr>\n",
       "      <th>28420</th>\n",
       "      <td>11463694</td>\n",
       "      <td>maxcom/lorsource</td>\n",
       "      <td>False</td>\n",
       "      <td>1</td>\n",
       "      <td>98de5f198f5c0ed5b5f169857c36567f8d10f10f</td>\n",
       "      <td>0</td>\n",
       "      <td>0</td>\n",
       "      <td>4</td>\n",
       "    </tr>\n",
       "    <tr>\n",
       "      <th>38900</th>\n",
       "      <td>524195</td>\n",
       "      <td>heroku/heroku</td>\n",
       "      <td>False</td>\n",
       "      <td>1</td>\n",
       "      <td>574839ce5162cf258bac2cbd81e22fafba0d100c</td>\n",
       "      <td>0</td>\n",
       "      <td>0</td>\n",
       "      <td>1</td>\n",
       "    </tr>\n",
       "    <tr>\n",
       "      <th>28393</th>\n",
       "      <td>11462777</td>\n",
       "      <td>openSUSE/open-build-service</td>\n",
       "      <td>False</td>\n",
       "      <td>1</td>\n",
       "      <td>65bba87bafe65f1198d76d637835ed6900c069f8</td>\n",
       "      <td>1</td>\n",
       "      <td>0</td>\n",
       "      <td>1</td>\n",
       "    </tr>\n",
       "    <tr>\n",
       "      <th>28398</th>\n",
       "      <td>11462942</td>\n",
       "      <td>opf/openproject</td>\n",
       "      <td>False</td>\n",
       "      <td>1</td>\n",
       "      <td>e54c3d895e983aa503adc384d6fc1d70c94582d4</td>\n",
       "      <td>0</td>\n",
       "      <td>0</td>\n",
       "      <td>1</td>\n",
       "    </tr>\n",
       "    <tr>\n",
       "      <th>28408</th>\n",
       "      <td>11463156</td>\n",
       "      <td>opf/openproject</td>\n",
       "      <td>False</td>\n",
       "      <td>1</td>\n",
       "      <td>06610e08ef978c1775e00f342b6adeff8f16e1e0</td>\n",
       "      <td>0</td>\n",
       "      <td>0</td>\n",
       "      <td>17</td>\n",
       "    </tr>\n",
       "    <tr>\n",
       "      <th>28418</th>\n",
       "      <td>11463349</td>\n",
       "      <td>CloudifySource/cloudify</td>\n",
       "      <td>False</td>\n",
       "      <td>1</td>\n",
       "      <td>f6cabb53fc07c7c6c9c323552de59d2e467959e9</td>\n",
       "      <td>0</td>\n",
       "      <td>0</td>\n",
       "      <td>1</td>\n",
       "    </tr>\n",
       "    <tr>\n",
       "      <th>28477</th>\n",
       "      <td>11466386</td>\n",
       "      <td>bikeindex/bike_index</td>\n",
       "      <td>False</td>\n",
       "      <td>1</td>\n",
       "      <td>bf8fc65c0e8214989d71f0c9667f978a680c8ca5</td>\n",
       "      <td>0</td>\n",
       "      <td>0</td>\n",
       "      <td>1</td>\n",
       "    </tr>\n",
       "    <tr>\n",
       "      <th>28478</th>\n",
       "      <td>11466423</td>\n",
       "      <td>joscha/play-authenticate</td>\n",
       "      <td>False</td>\n",
       "      <td>1</td>\n",
       "      <td>3b508dc7e819ab194af8c4a05943a81aa4f9c633</td>\n",
       "      <td>0</td>\n",
       "      <td>0</td>\n",
       "      <td>1</td>\n",
       "    </tr>\n",
       "    <tr>\n",
       "      <th>28387</th>\n",
       "      <td>11462659</td>\n",
       "      <td>ruby/ruby</td>\n",
       "      <td>False</td>\n",
       "      <td>1</td>\n",
       "      <td>b56fbb9b121665ab54e3bc1b9b77d5ad3a351e4f</td>\n",
       "      <td>1</td>\n",
       "      <td>0</td>\n",
       "      <td>0</td>\n",
       "    </tr>\n",
       "    <tr>\n",
       "      <th>28422</th>\n",
       "      <td>11463734</td>\n",
       "      <td>rsl/stringex</td>\n",
       "      <td>False</td>\n",
       "      <td>1</td>\n",
       "      <td>5a2e3cab767b2619b7be4097aef7b6c47b24fa86</td>\n",
       "      <td>2</td>\n",
       "      <td>0</td>\n",
       "      <td>2</td>\n",
       "    </tr>\n",
       "    <tr>\n",
       "      <th>28426</th>\n",
       "      <td>11463930</td>\n",
       "      <td>FenixEdu/fenixedu-academic</td>\n",
       "      <td>False</td>\n",
       "      <td>1</td>\n",
       "      <td>c68de83376d68edf4b83317051c832853508229f</td>\n",
       "      <td>0</td>\n",
       "      <td>0</td>\n",
       "      <td>1</td>\n",
       "    </tr>\n",
       "  </tbody>\n",
       "</table>\n",
       "</div>"
      ],
      "text/plain": [
       "       tr_build_id                   gh_project_name gh_is_pr  \\\n",
       "5303      72460790  ruby-concurrency/concurrent-ruby    False   \n",
       "28350     11461813                  maxcom/lorsource    False   \n",
       "28352     11461819             muffinista/chatterbot    False   \n",
       "28356     11462023       openSUSE/open-build-service    False   \n",
       "28361     11462060                  puniverse/quasar    False   \n",
       "28362     11462104            inossidabile/protector    False   \n",
       "28365     11462377            inossidabile/protector    False   \n",
       "28380     11462541              grosser/fast_gettext     True   \n",
       "28378     11462445                  maxcom/lorsource    False   \n",
       "28420     11463694                  maxcom/lorsource    False   \n",
       "38900       524195                     heroku/heroku    False   \n",
       "28393     11462777       openSUSE/open-build-service    False   \n",
       "28398     11462942                   opf/openproject    False   \n",
       "28408     11463156                   opf/openproject    False   \n",
       "28418     11463349           CloudifySource/cloudify    False   \n",
       "28477     11466386              bikeindex/bike_index    False   \n",
       "28478     11466423          joscha/play-authenticate    False   \n",
       "28387     11462659                         ruby/ruby    False   \n",
       "28422     11463734                      rsl/stringex    False   \n",
       "28426     11463930        FenixEdu/fenixedu-academic    False   \n",
       "\n",
       "       git_num_all_built_commits                        git_trigger_commit  \\\n",
       "5303                           1  afea68fb082605433cfecaa3f5df3709d7211069   \n",
       "28350                          1  d84eb84401fc0d734baffc4c8f263cb1fb54d80b   \n",
       "28352                          1  0fa1632f45d1fd8011336fe0f3bf36e084434c80   \n",
       "28356                          1  faba7cd54bd916e5c16512ef0826c7f72ed11e78   \n",
       "28361                          1  c8deebf2e4fb5b0a6960dd2205938bf50abc26dc   \n",
       "28362                          1  194dadfc8a80069c6b132c0687a008cf1ea56ebe   \n",
       "28365                          1  b35bbf46b66c731cef5586aa29eb1ebf6b69b91f   \n",
       "28380                          1  270c7ade92bbcf83f915f4cbfa49abfe3a7afbac   \n",
       "28378                          1  c64b4e7042faae361eed3e9c04054d01bc12ab70   \n",
       "28420                          1  98de5f198f5c0ed5b5f169857c36567f8d10f10f   \n",
       "38900                          1  574839ce5162cf258bac2cbd81e22fafba0d100c   \n",
       "28393                          1  65bba87bafe65f1198d76d637835ed6900c069f8   \n",
       "28398                          1  e54c3d895e983aa503adc384d6fc1d70c94582d4   \n",
       "28408                          1  06610e08ef978c1775e00f342b6adeff8f16e1e0   \n",
       "28418                          1  f6cabb53fc07c7c6c9c323552de59d2e467959e9   \n",
       "28477                          1  bf8fc65c0e8214989d71f0c9667f978a680c8ca5   \n",
       "28478                          1  3b508dc7e819ab194af8c4a05943a81aa4f9c633   \n",
       "28387                          1  b56fbb9b121665ab54e3bc1b9b77d5ad3a351e4f   \n",
       "28422                          1  5a2e3cab767b2619b7be4097aef7b6c47b24fa86   \n",
       "28426                          1  c68de83376d68edf4b83317051c832853508229f   \n",
       "\n",
       "       gh_diff_files_added  gh_diff_files_deleted  gh_diff_files_modified  \n",
       "5303                     0                      0                       1  \n",
       "28350                    0                      0                       2  \n",
       "28352                    0                      0                       1  \n",
       "28356                    0                      0                       1  \n",
       "28361                    0                      0                       3  \n",
       "28362                    0                      0                       1  \n",
       "28365                    0                      0                       1  \n",
       "28380                    0                      0                       1  \n",
       "28378                    0                      0                       1  \n",
       "28420                    0                      0                       4  \n",
       "38900                    0                      0                       1  \n",
       "28393                    1                      0                       1  \n",
       "28398                    0                      0                       1  \n",
       "28408                    0                      0                      17  \n",
       "28418                    0                      0                       1  \n",
       "28477                    0                      0                       1  \n",
       "28478                    0                      0                       1  \n",
       "28387                    1                      0                       0  \n",
       "28422                    2                      0                       2  \n",
       "28426                    0                      0                       1  "
      ]
     },
     "execution_count": 49,
     "metadata": {},
     "output_type": "execute_result"
    }
   ],
   "source": [
    "pdf.sort_values('git_num_all_built_commits',inplace=True,ascending=True)\n",
    "pdf.head(20)"
   ]
  },
  {
   "cell_type": "markdown",
   "metadata": {
    "collapsed": true
   },
   "source": [
    "Ergebnis: Bei kleinen Commit-Zahlen (hier 1) ist auch die Anzahl der Changes meist sehr niedrig. Weiter nicht betrachtet."
   ]
  },
  {
   "cell_type": "code",
   "execution_count": null,
   "metadata": {
    "collapsed": true
   },
   "outputs": [],
   "source": []
  }
 ],
 "metadata": {
  "anaconda-cloud": {},
  "kernelspec": {
   "display_name": "Python [default]",
   "language": "python",
   "name": "python3"
  },
  "language_info": {
   "codemirror_mode": {
    "name": "ipython",
    "version": 3
   },
   "file_extension": ".py",
   "mimetype": "text/x-python",
   "name": "python",
   "nbconvert_exporter": "python",
   "pygments_lexer": "ipython3",
   "version": "3.5.2"
  }
 },
 "nbformat": 4,
 "nbformat_minor": 1
}
