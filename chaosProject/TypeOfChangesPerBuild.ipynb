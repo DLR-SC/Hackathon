{
 "cells": [
  {
   "cell_type": "code",
   "execution_count": 16,
   "metadata": {
    "collapsed": false
   },
   "outputs": [],
   "source": [
    "import dask.dataframe as dd\n",
    "import pandas as pd\n",
    "\n",
    "def sloc_percent(row):\n",
    "    row['sloc_percent'] = 100*(row.git_diff_src_churn.astype('float')/row.gh_sloc.astype('float'))\n",
    "    row['gh_test_lines_per_kloc'] = row.gh_test_lines_per_kloc/1000\n",
    "    return row\n",
    "\n",
    "#df = dd.read_csv('data/travistorrent_11_1_2017.csv',blocksize=25000000,usecols=['tr_build_id','gh_project_name','git_num_all_built_commits','gh_is_pr','git_trigger_commit','gh_sloc','git_diff_src_churn','gh_diff_files_added','gh_diff_files_deleted','gh_diff_files_modified'])\n",
    "df = dd.read_csv('data/travistorrent_11_1_2017.csv',blocksize=25000000,usecols=['tr_build_id','gh_project_name','git_num_all_built_commits','git_trigger_commit','gh_sloc','git_diff_src_churn', 'gh_test_lines_per_kloc'])\n",
    "pdf = df.drop_duplicates().map_partitions(sloc_percent).compute()"
   ]
  },
  {
   "cell_type": "code",
   "execution_count": 23,
   "metadata": {
    "collapsed": false
   },
   "outputs": [
    {
     "data": {
      "text/plain": [
       "count    16159.0\n",
       "mean         1.0\n",
       "std          0.0\n",
       "min          1.0\n",
       "25%          1.0\n",
       "50%          1.0\n",
       "75%          1.0\n",
       "max          1.0\n",
       "Name: git_diff_src_churn, dtype: float64"
      ]
     },
     "execution_count": 23,
     "metadata": {},
     "output_type": "execute_result"
    }
   ],
   "source": [
    "pdf_one_line_change = pdf[pdf.git_diff_src_churn == 1]\n",
    "#pdf_one_line_change.sort_values('gh_sloc',inplace=True,ascending=False)\n",
    "pdf_one_line_change['git_diff_src_churn'].describe()"
   ]
  },
  {
   "cell_type": "code",
   "execution_count": 27,
   "metadata": {
    "collapsed": false
   },
   "outputs": [
    {
     "name": "stdout",
     "output_type": "stream",
     "text": [
      "2.8999786436376884\n"
     ]
    },
    {
     "data": {
      "text/plain": [
       "2.375593383798215"
      ]
     },
     "execution_count": 27,
     "metadata": {},
     "output_type": "execute_result"
    }
   ],
   "source": [
    "print(16159/float(557211)*100) # one commit builds \n",
    "16159/float(680209)*100 # all builds"
   ]
  },
  {
   "cell_type": "markdown",
   "metadata": {},
   "source": [
    "Ergebnis: 2.9% aller Ein-Commit Builds sind Ein-Zeilen Changes. 2.4% aller Builds sind ein-Zeilen Changes."
   ]
  },
  {
   "cell_type": "markdown",
   "metadata": {},
   "source": [
    "TODO: Berechnung wie oben wo \"alle\" == Builds mit mindestens einem source change. Frage: Wieviele Source-Code-Change Builds haben nur eine geänderte Zeile.\n",
    "TODO: Wieviele Builds haben har keinen Source change?\n",
    "TODO: Gegenmenge 'zerlegen' (Test/Doc/...)\n"
   ]
  },
  {
   "cell_type": "code",
   "execution_count": null,
   "metadata": {
    "collapsed": true
   },
   "outputs": [],
   "source": []
  }
 ],
 "metadata": {
  "anaconda-cloud": {},
  "kernelspec": {
   "display_name": "Python [default]",
   "language": "python",
   "name": "python3"
  },
  "language_info": {
   "codemirror_mode": {
    "name": "ipython",
    "version": 3
   },
   "file_extension": ".py",
   "mimetype": "text/x-python",
   "name": "python",
   "nbconvert_exporter": "python",
   "pygments_lexer": "ipython3",
   "version": "3.5.2"
  }
 },
 "nbformat": 4,
 "nbformat_minor": 1
}
