{
 "cells": [
  {
   "cell_type": "code",
   "execution_count": null,
   "metadata": {
    "collapsed": false
   },
   "outputs": [],
   "source": [
    "import csv\n",
    "import pandas as pd\n",
    "import matplotlib.pyplot as plt\n",
    "\n",
    "constante = 'C:/Users/stoc_ad/Desktop/travistorrent_11_1_2017.csv'\n",
    "\n",
    "df = pd.read_csv(constante, sep = ',')\n",
    "\n",
    "linesTestProCode = df['gh_test_lines_per_kloc']\n"
   ]
  },
  {
   "cell_type": "code",
   "execution_count": null,
   "metadata": {
    "collapsed": false
   },
   "outputs": [],
   "source": [
    "linesTestProCode = df['gh_test_lines_per_kloc']\n",
    "linesTestProCodeFiltered = []\n",
    "for e in range(len(linesTestProCode) - 1):\n",
    "    if not(linesTestProCode[e] == linesTestProCode[e+1]):\n",
    "        linesTestProCodeFiltered += [linesTestProCode[e]]"
   ]
  },
  {
   "cell_type": "code",
   "execution_count": null,
   "metadata": {
    "collapsed": true
   },
   "outputs": [],
   "source": [
    "linesTestProCodesFiltered[:100]"
   ]
  }
 ],
 "metadata": {
  "kernelspec": {
   "display_name": "Python [conda root]",
   "language": "python",
   "name": "conda-root-py"
  },
  "language_info": {
   "codemirror_mode": {
    "name": "ipython",
    "version": 3
   },
   "file_extension": ".py",
   "mimetype": "text/x-python",
   "name": "python",
   "nbconvert_exporter": "python",
   "pygments_lexer": "ipython3",
   "version": "3.5.2"
  }
 },
 "nbformat": 4,
 "nbformat_minor": 1
}
