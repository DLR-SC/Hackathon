{
 "cells": [
  {
   "cell_type": "code",
   "execution_count": 2,
   "metadata": {
    "collapsed": false
   },
   "outputs": [
    {
     "name": "stderr",
     "output_type": "stream",
     "text": [
      "C:\\Users\\stoc_ad\\AppData\\Local\\Continuum\\Anaconda3\\lib\\site-packages\\IPython\\core\\interactiveshell.py:2717: DtypeWarning: Columns (3,6,18) have mixed types. Specify dtype option on import or set low_memory=False.\n",
      "  interactivity=interactivity, compiler=compiler, result=result)\n"
     ]
    },
    {
     "name": "stdout",
     "output_type": "stream",
     "text": [
      "[0.11103193189629194, 0.8889680681037081]\n",
      "[0.06836208278710942, 0.9316379172128906]\n",
      "[0.10462633451957296, 0.8953736654804271]\n"
     ]
    }
   ],
   "source": [
    "import csv\n",
    "import pandas as pd\n",
    "\n",
    "#Copyright heftigerGuy\n",
    "\n",
    "constante = 'C:/Users/stoc_ad/Desktop/travistorrent_11_1_2017.csv'\n",
    "\n",
    "df = pd.read_csv(constante, sep = ',')\n",
    "\n",
    "#Errechnet die Stelle, wo gh_lang bzw. tr_log_bool_tests_failed gefunden wird\n",
    "counter = 0\n",
    "df['gh_lang', 'tr_log_bool_tests_failed'].drop_duplicates()\n",
    "for e in df:\n",
    "    if e == \"gh_lang\":\n",
    "        spalte_gh_lang = counter\n",
    "    elif e == \"tr_log_bool_tests_failed\":\n",
    "        spalte_tr_log_bool_tests_failed = counter\n",
    "    counter += 1\n",
    "\n",
    "#Listen mit dem Inhalt der Spalte gh_lang bzw tr_log_bool_tests_failed\n",
    "spalteProgrammiersprache = []\n",
    "spalteFailedTests = []\n",
    "\n",
    "for i in df.values.tolist():\n",
    "    spalteProgrammiersprache += [i[spalte_gh_lang]]\n",
    "    spalteFailedTests += [i[spalte_tr_log_bool_tests_failed]]\n",
    "\n",
    "#Ermittelt die Anzahl der erfolgreichen / fehlgeschlagenen Tests pro Programmiersprache\n",
    "#Ermittelt die Anzahl der Tests pro Programmiersprache insgesamt\n",
    "rubyTests = [0, 0, 0]\n",
    "javaTests = [0, 0, 0]\n",
    "javascriptTests = [0, 0, 0]\n",
    "anzahlProgrammiersprachen = [0, 0, 0]\n",
    "for e in range(len(spalteProgrammiersprache)):\n",
    "    if spalteProgrammiersprache[e] == \"ruby\":\n",
    "        if spalteFailedTests[e] == True:\n",
    "            rubyTests[0] += 1\n",
    "            anzahlProgrammiersprachen[0] += 1\n",
    "        elif spalteFailedTests[e] == False:\n",
    "            rubyTests[1] += 1\n",
    "            anzahlProgrammiersprachen[0] += 1\n",
    "        else:\n",
    "            rubyTests[2] += 1\n",
    "    elif spalteProgrammiersprache[e] == \"java\":\n",
    "        if spalteFailedTests[e] == True:\n",
    "            javaTests[0] += 1\n",
    "            anzahlProgrammiersprachen[1] += 1\n",
    "        elif spalteFailedTests[e] == False:\n",
    "            javaTests[1] += 1\n",
    "            anzahlProgrammiersprachen[1] += 1\n",
    "        else:\n",
    "            javaTests[2] += 1\n",
    "    elif spalteProgrammiersprache[e] == \"javascript\":\n",
    "        if spalteFailedTests[e] == True:\n",
    "            javascriptTests[0] += 1\n",
    "            anzahlProgrammiersprachen[2] += 1\n",
    "        elif spalteFailedTests[e] == False:\n",
    "            javascriptTests[1] += 1\n",
    "            anzahlProgrammiersprachen[2] += 1\n",
    "        else:\n",
    "            javascriptTests[2] += 1\n",
    "\n",
    "#Errechnet Anzahl Erfolge / missglückter Versuche\n",
    "erfolgsrateRubyTests = [rubyTests[0] / anzahlProgrammiersprachen[0], rubyTests[1] / anzahlProgrammiersprachen[0]]\n",
    "erfolgsrateJavaTests = [javaTests[0] / anzahlProgrammiersprachen[1], javaTests[1] / anzahlProgrammiersprachen[1]]\n",
    "erfolgsrateJavascriptTests = [javascriptTests[0] / anzahlProgrammiersprachen[2], javascriptTests[1] / anzahlProgrammiersprachen[2]]\n",
    "        \n",
    "print(erfolgsrateRubyTests)\n",
    "print(erfolgsrateJavaTests)\n",
    "print(erfolgsrateJavascriptTests)"
   ]
  },
  {
   "cell_type": "code",
   "execution_count": null,
   "metadata": {
    "collapsed": true
   },
   "outputs": [],
   "source": []
  }
 ],
 "metadata": {
  "anaconda-cloud": {},
  "kernelspec": {
   "display_name": "Python [conda root]",
   "language": "python",
   "name": "conda-root-py"
  },
  "language_info": {
   "codemirror_mode": {
    "name": "ipython",
    "version": 3
   },
   "file_extension": ".py",
   "mimetype": "text/x-python",
   "name": "python",
   "nbconvert_exporter": "python",
   "pygments_lexer": "ipython3",
   "version": "3.5.2"
  }
 },
 "nbformat": 4,
 "nbformat_minor": 1
}
