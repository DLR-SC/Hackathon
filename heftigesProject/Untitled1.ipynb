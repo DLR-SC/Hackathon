{
 "cells": [
  {
   "cell_type": "code",
   "execution_count": 1,
   "metadata": {
    "collapsed": false
   },
   "outputs": [
    {
     "name": "stderr",
     "output_type": "stream",
     "text": [
      "D:\\Users\\abbe_he\\AppData\\Local\\Continuum\\Anaconda3\\lib\\site-packages\\IPython\\core\\interactiveshell.py:2717: DtypeWarning: Columns (3,6,18) have mixed types. Specify dtype option on import or set low_memory=False.\n",
      "  interactivity=interactivity, compiler=compiler, result=result)\n"
     ]
    }
   ],
   "source": [
    "import pandas as pd\n",
    "df = pd.read_csv('D:/Hackathon/travistorrent_11_1_2017.csv/travistorrent_11_1_2017.csv', sep=',')"
   ]
  },
  {
   "cell_type": "code",
   "execution_count": 2,
   "metadata": {
    "collapsed": false,
    "scrolled": true
   },
   "outputs": [
    {
     "data": {
      "text/html": [
       "<div>\n",
       "<table border=\"1\" class=\"dataframe\">\n",
       "  <thead>\n",
       "    <tr style=\"text-align: right;\">\n",
       "      <th></th>\n",
       "      <th>tr_build_id</th>\n",
       "      <th>gh_project_name</th>\n",
       "      <th>gh_is_pr</th>\n",
       "      <th>gh_pr_created_at</th>\n",
       "      <th>gh_pull_req_num</th>\n",
       "      <th>gh_lang</th>\n",
       "      <th>git_merged_with</th>\n",
       "      <th>git_branch</th>\n",
       "      <th>gh_num_commits_in_push</th>\n",
       "      <th>gh_commits_in_push</th>\n",
       "      <th>...</th>\n",
       "      <th>tr_log_frameworks</th>\n",
       "      <th>tr_log_bool_tests_ran</th>\n",
       "      <th>tr_log_bool_tests_failed</th>\n",
       "      <th>tr_log_num_tests_ok</th>\n",
       "      <th>tr_log_num_tests_failed</th>\n",
       "      <th>tr_log_num_tests_run</th>\n",
       "      <th>tr_log_num_tests_skipped</th>\n",
       "      <th>tr_log_tests_failed</th>\n",
       "      <th>tr_log_testduration</th>\n",
       "      <th>tr_log_buildduration</th>\n",
       "    </tr>\n",
       "  </thead>\n",
       "  <tbody>\n",
       "    <tr>\n",
       "      <th>0</th>\n",
       "      <td>106060</td>\n",
       "      <td>rails/rails</td>\n",
       "      <td>False</td>\n",
       "      <td>NaN</td>\n",
       "      <td>NaN</td>\n",
       "      <td>ruby</td>\n",
       "      <td>NaN</td>\n",
       "      <td>3-1-stable</td>\n",
       "      <td>NaN</td>\n",
       "      <td>NaN</td>\n",
       "      <td>...</td>\n",
       "      <td>NaN</td>\n",
       "      <td>False</td>\n",
       "      <td>NaN</td>\n",
       "      <td>NaN</td>\n",
       "      <td>NaN</td>\n",
       "      <td>NaN</td>\n",
       "      <td>NaN</td>\n",
       "      <td>NaN</td>\n",
       "      <td>NaN</td>\n",
       "      <td>NaN</td>\n",
       "    </tr>\n",
       "    <tr>\n",
       "      <th>1</th>\n",
       "      <td>106060</td>\n",
       "      <td>rails/rails</td>\n",
       "      <td>False</td>\n",
       "      <td>NaN</td>\n",
       "      <td>NaN</td>\n",
       "      <td>ruby</td>\n",
       "      <td>NaN</td>\n",
       "      <td>3-1-stable</td>\n",
       "      <td>NaN</td>\n",
       "      <td>NaN</td>\n",
       "      <td>...</td>\n",
       "      <td>NaN</td>\n",
       "      <td>False</td>\n",
       "      <td>NaN</td>\n",
       "      <td>NaN</td>\n",
       "      <td>NaN</td>\n",
       "      <td>NaN</td>\n",
       "      <td>NaN</td>\n",
       "      <td>NaN</td>\n",
       "      <td>NaN</td>\n",
       "      <td>NaN</td>\n",
       "    </tr>\n",
       "    <tr>\n",
       "      <th>2</th>\n",
       "      <td>106060</td>\n",
       "      <td>rails/rails</td>\n",
       "      <td>False</td>\n",
       "      <td>NaN</td>\n",
       "      <td>NaN</td>\n",
       "      <td>ruby</td>\n",
       "      <td>NaN</td>\n",
       "      <td>3-1-stable</td>\n",
       "      <td>NaN</td>\n",
       "      <td>NaN</td>\n",
       "      <td>...</td>\n",
       "      <td>NaN</td>\n",
       "      <td>False</td>\n",
       "      <td>NaN</td>\n",
       "      <td>NaN</td>\n",
       "      <td>NaN</td>\n",
       "      <td>NaN</td>\n",
       "      <td>NaN</td>\n",
       "      <td>NaN</td>\n",
       "      <td>NaN</td>\n",
       "      <td>NaN</td>\n",
       "    </tr>\n",
       "    <tr>\n",
       "      <th>3</th>\n",
       "      <td>106060</td>\n",
       "      <td>rails/rails</td>\n",
       "      <td>False</td>\n",
       "      <td>NaN</td>\n",
       "      <td>NaN</td>\n",
       "      <td>ruby</td>\n",
       "      <td>NaN</td>\n",
       "      <td>3-1-stable</td>\n",
       "      <td>NaN</td>\n",
       "      <td>NaN</td>\n",
       "      <td>...</td>\n",
       "      <td>NaN</td>\n",
       "      <td>False</td>\n",
       "      <td>NaN</td>\n",
       "      <td>NaN</td>\n",
       "      <td>NaN</td>\n",
       "      <td>NaN</td>\n",
       "      <td>NaN</td>\n",
       "      <td>NaN</td>\n",
       "      <td>NaN</td>\n",
       "      <td>NaN</td>\n",
       "    </tr>\n",
       "    <tr>\n",
       "      <th>4</th>\n",
       "      <td>106060</td>\n",
       "      <td>rails/rails</td>\n",
       "      <td>False</td>\n",
       "      <td>NaN</td>\n",
       "      <td>NaN</td>\n",
       "      <td>ruby</td>\n",
       "      <td>NaN</td>\n",
       "      <td>3-1-stable</td>\n",
       "      <td>NaN</td>\n",
       "      <td>NaN</td>\n",
       "      <td>...</td>\n",
       "      <td>NaN</td>\n",
       "      <td>False</td>\n",
       "      <td>NaN</td>\n",
       "      <td>NaN</td>\n",
       "      <td>NaN</td>\n",
       "      <td>NaN</td>\n",
       "      <td>NaN</td>\n",
       "      <td>NaN</td>\n",
       "      <td>NaN</td>\n",
       "      <td>NaN</td>\n",
       "    </tr>\n",
       "  </tbody>\n",
       "</table>\n",
       "<p>5 rows × 61 columns</p>\n",
       "</div>"
      ],
      "text/plain": [
       "   tr_build_id gh_project_name gh_is_pr gh_pr_created_at  gh_pull_req_num  \\\n",
       "0       106060     rails/rails    False              NaN              NaN   \n",
       "1       106060     rails/rails    False              NaN              NaN   \n",
       "2       106060     rails/rails    False              NaN              NaN   \n",
       "3       106060     rails/rails    False              NaN              NaN   \n",
       "4       106060     rails/rails    False              NaN              NaN   \n",
       "\n",
       "  gh_lang git_merged_with  git_branch  gh_num_commits_in_push  \\\n",
       "0    ruby             NaN  3-1-stable                     NaN   \n",
       "1    ruby             NaN  3-1-stable                     NaN   \n",
       "2    ruby             NaN  3-1-stable                     NaN   \n",
       "3    ruby             NaN  3-1-stable                     NaN   \n",
       "4    ruby             NaN  3-1-stable                     NaN   \n",
       "\n",
       "  gh_commits_in_push         ...          tr_log_frameworks  \\\n",
       "0                NaN         ...                        NaN   \n",
       "1                NaN         ...                        NaN   \n",
       "2                NaN         ...                        NaN   \n",
       "3                NaN         ...                        NaN   \n",
       "4                NaN         ...                        NaN   \n",
       "\n",
       "  tr_log_bool_tests_ran  tr_log_bool_tests_failed tr_log_num_tests_ok  \\\n",
       "0                 False                       NaN                 NaN   \n",
       "1                 False                       NaN                 NaN   \n",
       "2                 False                       NaN                 NaN   \n",
       "3                 False                       NaN                 NaN   \n",
       "4                 False                       NaN                 NaN   \n",
       "\n",
       "   tr_log_num_tests_failed tr_log_num_tests_run  tr_log_num_tests_skipped  \\\n",
       "0                      NaN                  NaN                       NaN   \n",
       "1                      NaN                  NaN                       NaN   \n",
       "2                      NaN                  NaN                       NaN   \n",
       "3                      NaN                  NaN                       NaN   \n",
       "4                      NaN                  NaN                       NaN   \n",
       "\n",
       "  tr_log_tests_failed tr_log_testduration tr_log_buildduration  \n",
       "0                 NaN                 NaN                  NaN  \n",
       "1                 NaN                 NaN                  NaN  \n",
       "2                 NaN                 NaN                  NaN  \n",
       "3                 NaN                 NaN                  NaN  \n",
       "4                 NaN                 NaN                  NaN  \n",
       "\n",
       "[5 rows x 61 columns]"
      ]
     },
     "execution_count": 2,
     "metadata": {},
     "output_type": "execute_result"
    }
   ],
   "source": [
    "df.head()\n"
   ]
  },
  {
   "cell_type": "code",
   "execution_count": 3,
   "metadata": {
    "collapsed": false
   },
   "outputs": [
    {
     "name": "stdout",
     "output_type": "stream",
     "text": [
      "      gh_lang  size\n",
      "0        java   393\n",
      "1  javascript     4\n",
      "2        ruby   886\n"
     ]
    },
    {
     "data": {
      "image/png": "[encoded data removed]",
      "text/plain": [
       "<matplotlib.figure.Figure at 0x97957b8>"
      ]
     },
     "metadata": {},
     "output_type": "display_data"
    }
   ],
   "source": [
    "lang = df[['gh_lang', 'gh_project_name']]\n",
    "dou = lang.drop_duplicates()\n",
    "counts = dou.groupby('gh_lang').size().reset_index(name='size')\n",
    "\n",
    "print(counts)\n",
    "\n",
    "import matplotlib.pyplot as pyplot\n",
    "\n",
    "var= counts.stack()\n",
    "temp = var.unstack()\n",
    "type(temp)\n",
    "\n",
    "x_list = temp['size']\n",
    "label_list = temp['gh_lang']\n",
    "pyplot.axis(\"equal\") # Kreisdiagramm rund gestaltet (sonst Standard: oval!)#\n",
    "pyplot.pie(x_list, labels=label_list, autopct=\"%1.1f%%\")\n",
    "pyplot.title('Verglichene Programmiersprachen')\n",
    "pyplot.show()"
   ]
  },
  {
   "cell_type": "code",
   "execution_count": null,
   "metadata": {
    "collapsed": true
   },
   "outputs": [],
   "source": []
  },
  {
   "cell_type": "code",
   "execution_count": null,
   "metadata": {
    "collapsed": true
   },
   "outputs": [],
   "source": []
  }
 ],
 "metadata": {
  "anaconda-cloud": {},
  "kernelspec": {
   "display_name": "Python [conda root]",
   "language": "python",
   "name": "conda-root-py"
  },
  "language_info": {
   "codemirror_mode": {
    "name": "ipython",
    "version": 3
   },
   "file_extension": ".py",
   "mimetype": "text/x-python",
   "name": "python",
   "nbconvert_exporter": "python",
   "pygments_lexer": "ipython3",
   "version": "3.5.2"
  }
 },
 "nbformat": 4,
 "nbformat_minor": 1
}
