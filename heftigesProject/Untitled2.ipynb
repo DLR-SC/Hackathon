{
 "cells": [
  {
   "cell_type": "code",
   "execution_count": 2,
   "metadata": {
    "collapsed": false
   },
   "outputs": [
    {
     "name": "stderr",
     "output_type": "stream",
     "text": [
      "D:\\Users\\abbe_he\\AppData\\Local\\Continuum\\Anaconda3\\lib\\site-packages\\IPython\\core\\interactiveshell.py:2717: DtypeWarning: Columns (3,6,18) have mixed types. Specify dtype option on import or set low_memory=False.\n",
      "  interactivity=interactivity, compiler=compiler, result=result)\n"
     ]
    }
   ],
   "source": [
    "import pandas as pd\n",
    "df = pd.read_csv('D:/Hackathon/travistorrent_11_1_2017.csv/travistorrent_11_1_2017.csv', sep=',')"
   ]
  },
  {
   "cell_type": "code",
   "execution_count": 3,
   "metadata": {
    "collapsed": false,
    "scrolled": false
   },
   "outputs": [
    {
     "data": {
      "text/html": [
       "<div>\n",
       "<table border=\"1\" class=\"dataframe\">\n",
       "  <thead>\n",
       "    <tr style=\"text-align: right;\">\n",
       "      <th></th>\n",
       "      <th>tr_build_id</th>\n",
       "      <th>gh_project_name</th>\n",
       "      <th>gh_is_pr</th>\n",
       "      <th>gh_pr_created_at</th>\n",
       "      <th>gh_pull_req_num</th>\n",
       "      <th>gh_lang</th>\n",
       "      <th>git_merged_with</th>\n",
       "      <th>git_branch</th>\n",
       "      <th>gh_num_commits_in_push</th>\n",
       "      <th>gh_commits_in_push</th>\n",
       "      <th>...</th>\n",
       "      <th>tr_log_frameworks</th>\n",
       "      <th>tr_log_bool_tests_ran</th>\n",
       "      <th>tr_log_bool_tests_failed</th>\n",
       "      <th>tr_log_num_tests_ok</th>\n",
       "      <th>tr_log_num_tests_failed</th>\n",
       "      <th>tr_log_num_tests_run</th>\n",
       "      <th>tr_log_num_tests_skipped</th>\n",
       "      <th>tr_log_tests_failed</th>\n",
       "      <th>tr_log_testduration</th>\n",
       "      <th>tr_log_buildduration</th>\n",
       "    </tr>\n",
       "  </thead>\n",
       "  <tbody>\n",
       "    <tr>\n",
       "      <th>0</th>\n",
       "      <td>106060</td>\n",
       "      <td>rails/rails</td>\n",
       "      <td>False</td>\n",
       "      <td>NaN</td>\n",
       "      <td>NaN</td>\n",
       "      <td>ruby</td>\n",
       "      <td>NaN</td>\n",
       "      <td>3-1-stable</td>\n",
       "      <td>NaN</td>\n",
       "      <td>NaN</td>\n",
       "      <td>...</td>\n",
       "      <td>NaN</td>\n",
       "      <td>False</td>\n",
       "      <td>NaN</td>\n",
       "      <td>NaN</td>\n",
       "      <td>NaN</td>\n",
       "      <td>NaN</td>\n",
       "      <td>NaN</td>\n",
       "      <td>NaN</td>\n",
       "      <td>NaN</td>\n",
       "      <td>NaN</td>\n",
       "    </tr>\n",
       "    <tr>\n",
       "      <th>1</th>\n",
       "      <td>106060</td>\n",
       "      <td>rails/rails</td>\n",
       "      <td>False</td>\n",
       "      <td>NaN</td>\n",
       "      <td>NaN</td>\n",
       "      <td>ruby</td>\n",
       "      <td>NaN</td>\n",
       "      <td>3-1-stable</td>\n",
       "      <td>NaN</td>\n",
       "      <td>NaN</td>\n",
       "      <td>...</td>\n",
       "      <td>NaN</td>\n",
       "      <td>False</td>\n",
       "      <td>NaN</td>\n",
       "      <td>NaN</td>\n",
       "      <td>NaN</td>\n",
       "      <td>NaN</td>\n",
       "      <td>NaN</td>\n",
       "      <td>NaN</td>\n",
       "      <td>NaN</td>\n",
       "      <td>NaN</td>\n",
       "    </tr>\n",
       "    <tr>\n",
       "      <th>2</th>\n",
       "      <td>106060</td>\n",
       "      <td>rails/rails</td>\n",
       "      <td>False</td>\n",
       "      <td>NaN</td>\n",
       "      <td>NaN</td>\n",
       "      <td>ruby</td>\n",
       "      <td>NaN</td>\n",
       "      <td>3-1-stable</td>\n",
       "      <td>NaN</td>\n",
       "      <td>NaN</td>\n",
       "      <td>...</td>\n",
       "      <td>NaN</td>\n",
       "      <td>False</td>\n",
       "      <td>NaN</td>\n",
       "      <td>NaN</td>\n",
       "      <td>NaN</td>\n",
       "      <td>NaN</td>\n",
       "      <td>NaN</td>\n",
       "      <td>NaN</td>\n",
       "      <td>NaN</td>\n",
       "      <td>NaN</td>\n",
       "    </tr>\n",
       "    <tr>\n",
       "      <th>3</th>\n",
       "      <td>106060</td>\n",
       "      <td>rails/rails</td>\n",
       "      <td>False</td>\n",
       "      <td>NaN</td>\n",
       "      <td>NaN</td>\n",
       "      <td>ruby</td>\n",
       "      <td>NaN</td>\n",
       "      <td>3-1-stable</td>\n",
       "      <td>NaN</td>\n",
       "      <td>NaN</td>\n",
       "      <td>...</td>\n",
       "      <td>NaN</td>\n",
       "      <td>False</td>\n",
       "      <td>NaN</td>\n",
       "      <td>NaN</td>\n",
       "      <td>NaN</td>\n",
       "      <td>NaN</td>\n",
       "      <td>NaN</td>\n",
       "      <td>NaN</td>\n",
       "      <td>NaN</td>\n",
       "      <td>NaN</td>\n",
       "    </tr>\n",
       "    <tr>\n",
       "      <th>4</th>\n",
       "      <td>106060</td>\n",
       "      <td>rails/rails</td>\n",
       "      <td>False</td>\n",
       "      <td>NaN</td>\n",
       "      <td>NaN</td>\n",
       "      <td>ruby</td>\n",
       "      <td>NaN</td>\n",
       "      <td>3-1-stable</td>\n",
       "      <td>NaN</td>\n",
       "      <td>NaN</td>\n",
       "      <td>...</td>\n",
       "      <td>NaN</td>\n",
       "      <td>False</td>\n",
       "      <td>NaN</td>\n",
       "      <td>NaN</td>\n",
       "      <td>NaN</td>\n",
       "      <td>NaN</td>\n",
       "      <td>NaN</td>\n",
       "      <td>NaN</td>\n",
       "      <td>NaN</td>\n",
       "      <td>NaN</td>\n",
       "    </tr>\n",
       "  </tbody>\n",
       "</table>\n",
       "<p>5 rows × 61 columns</p>\n",
       "</div>"
      ],
      "text/plain": [
       "   tr_build_id gh_project_name gh_is_pr gh_pr_created_at  gh_pull_req_num  \\\n",
       "0       106060     rails/rails    False              NaN              NaN   \n",
       "1       106060     rails/rails    False              NaN              NaN   \n",
       "2       106060     rails/rails    False              NaN              NaN   \n",
       "3       106060     rails/rails    False              NaN              NaN   \n",
       "4       106060     rails/rails    False              NaN              NaN   \n",
       "\n",
       "  gh_lang git_merged_with  git_branch  gh_num_commits_in_push  \\\n",
       "0    ruby             NaN  3-1-stable                     NaN   \n",
       "1    ruby             NaN  3-1-stable                     NaN   \n",
       "2    ruby             NaN  3-1-stable                     NaN   \n",
       "3    ruby             NaN  3-1-stable                     NaN   \n",
       "4    ruby             NaN  3-1-stable                     NaN   \n",
       "\n",
       "  gh_commits_in_push         ...          tr_log_frameworks  \\\n",
       "0                NaN         ...                        NaN   \n",
       "1                NaN         ...                        NaN   \n",
       "2                NaN         ...                        NaN   \n",
       "3                NaN         ...                        NaN   \n",
       "4                NaN         ...                        NaN   \n",
       "\n",
       "  tr_log_bool_tests_ran  tr_log_bool_tests_failed tr_log_num_tests_ok  \\\n",
       "0                 False                       NaN                 NaN   \n",
       "1                 False                       NaN                 NaN   \n",
       "2                 False                       NaN                 NaN   \n",
       "3                 False                       NaN                 NaN   \n",
       "4                 False                       NaN                 NaN   \n",
       "\n",
       "   tr_log_num_tests_failed tr_log_num_tests_run  tr_log_num_tests_skipped  \\\n",
       "0                      NaN                  NaN                       NaN   \n",
       "1                      NaN                  NaN                       NaN   \n",
       "2                      NaN                  NaN                       NaN   \n",
       "3                      NaN                  NaN                       NaN   \n",
       "4                      NaN                  NaN                       NaN   \n",
       "\n",
       "  tr_log_tests_failed tr_log_testduration tr_log_buildduration  \n",
       "0                 NaN                 NaN                  NaN  \n",
       "1                 NaN                 NaN                  NaN  \n",
       "2                 NaN                 NaN                  NaN  \n",
       "3                 NaN                 NaN                  NaN  \n",
       "4                 NaN                 NaN                  NaN  \n",
       "\n",
       "[5 rows x 61 columns]"
      ]
     },
     "execution_count": 3,
     "metadata": {},
     "output_type": "execute_result"
    }
   ],
   "source": [
    "df.head()\n"
   ]
  },
  {
   "cell_type": "code",
   "execution_count": 4,
   "metadata": {
    "collapsed": false,
    "scrolled": true
   },
   "outputs": [
    {
     "name": "stdout",
     "output_type": "stream",
     "text": [
      "      gh_lang  size\n",
      "0        java   393\n",
      "1  javascript     4\n",
      "2        ruby   886\n"
     ]
    },
    {
     "data": {
      "image/png": "[encoded data removed]",
      "text/plain": [
       "<matplotlib.figure.Figure at 0x9be1d68>"
      ]
     },
     "metadata": {},
     "output_type": "display_data"
    }
   ],
   "source": [
    "lang = df[['gh_lang', 'gh_project_name']]\n",
    "\n",
    "dou = lang.drop_duplicates()\n",
    "    \n",
    "counts = dou.groupby('gh_lang').size().reset_index(name='size')\n",
    "#counts.head()\n",
    "print(counts)\n",
    "#for e in df\n",
    "\n",
    "\n",
    "import matplotlib.pyplot as pyplot\n",
    "#ddf = counts.to_frame('size')\n",
    "\n",
    "\n",
    "var= counts.stack()\n",
    "temp = var.unstack()\n",
    "type(temp)\n",
    "\n",
    "x_list = temp['size']\n",
    "label_list = temp['gh_lang']\n",
    "pyplot.axis(\"equal\") # Kreisdiagramm rund gestaltet (sonst Standard: oval!)#\n",
    "pyplot.pie(x_list, labels=label_list, autopct=\"%1.1f%%\")\n",
    "pyplot.title('Verglichene Programmiersprachen')\n",
    "pyplot.show()"
   ]
  },
  {
   "cell_type": "code",
   "execution_count": 75,
   "metadata": {
    "collapsed": false,
    "scrolled": true
   },
   "outputs": [],
   "source": [
    "def calculate(key):\n",
    "    java_count = 0\n",
    "    java_duration = 0\n",
    "    ruby_count = 0\n",
    "    ruby_duration = 0\n",
    "    js_count = 0\n",
    "    js_duration = 0\n",
    "    for index, row in df.iterrows():\n",
    "        if (str(row[key])==\"nan\"):\n",
    "            continue\n",
    "        if (row['gh_lang'] == 'java'):\n",
    "            java_count += 1\n",
    "            java_duration += row[key]\n",
    "        elif (row['gh_lang'] == 'ruby'):\n",
    "            ruby_count += 1\n",
    "            ruby_duration += row[key]\n",
    "        elif (row['gh_lang'] == 'javascript'):\n",
    "            js_count += 1\n",
    "            js_duration += row[key]\n",
    "                                 \n",
    "    java_e = java_duration/java_count\n",
    "    ruby_e = ruby_duration/ruby_count\n",
    "    js_e = js_duration/js_count\n",
    "\n",
    "    d = {'language' : pd.Series(['java', 'ruby', 'js'], index=[0, 1, 2]), 'value' : pd.Series([java_e, ruby_e, js_e], index=[0, 1, 2])}\n",
    "    dataset = pd.DataFrame(d)\n",
    "    print(dataset)\n",
    "    return dataset"
   ]
  },
  {
   "cell_type": "code",
   "execution_count": 76,
   "metadata": {
    "collapsed": false
   },
   "outputs": [
    {
     "name": "stdout",
     "output_type": "stream",
     "text": [
      "  language        value\n",
      "0     java  2197.305915\n",
      "1     ruby  6866.300209\n",
      "2       js   289.200219\n"
     ]
    },
    {
     "data": {
      "image/png": "[encoded data removed]",
      "text/plain": [
       "<matplotlib.figure.Figure at 0x2eabe0588>"
      ]
     },
     "metadata": {},
     "output_type": "display_data"
    }
   ],
   "source": [
    "var = calculate('tr_duration').groupby('language').value.sum()\n",
    "fig = pyplot.figure()\n",
    "var.plot(kind='bar')\n",
    "pyplot.ylabel(\"Travis build duration average\")\n",
    "pyplot.xlabel(\"Used language\")\n",
    "pyplot.show()"
   ]
  },
  {
   "cell_type": "code",
   "execution_count": 77,
   "metadata": {
    "collapsed": false
   },
   "outputs": [
    {
     "name": "stdout",
     "output_type": "stream",
     "text": [
      "  language      value\n",
      "0     java   8.321369\n",
      "1     ruby   4.429921\n",
      "2       js  16.284147\n"
     ]
    },
    {
     "data": {
      "image/png": "[encoded data removed]",
      "text/plain": [
       "<matplotlib.figure.Figure at 0x2eac45b00>"
      ]
     },
     "metadata": {},
     "output_type": "display_data"
    }
   ],
   "source": [
    "var = calculate('gh_diff_src_files').groupby('language').value.sum()\n",
    "fig = pyplot.figure()\n",
    "var.plot(kind='bar')\n",
    "pyplot.ylabel(\"GitHub source file changes average\")\n",
    "pyplot.xlabel(\"Used language\")\n",
    "pyplot.show()"
   ]
  },
  {
   "cell_type": "code",
   "execution_count": 80,
   "metadata": {
    "collapsed": false
   },
   "outputs": [
    {
     "name": "stdout",
     "output_type": "stream",
     "text": [
      "  language       value\n",
      "0     java  269.761787\n",
      "1     ruby   77.582976\n",
      "2       js  522.103127\n"
     ]
    },
    {
     "data": {
      "image/png": "[encoded data removed]",
      "text/plain": [
       "<matplotlib.figure.Figure at 0x4b99eea20>"
      ]
     },
     "metadata": {},
     "output_type": "display_data"
    }
   ],
   "source": [
    "var = calculate('git_diff_src_churn').groupby('language').value.sum()\n",
    "fig = pyplot.figure()\n",
    "var.plot(kind='bar')\n",
    "pyplot.ylabel(\"Number of lines of production code changed average\")\n",
    "pyplot.xlabel(\"Used language\")\n",
    "pyplot.show()"
   ]
  },
  {
   "cell_type": "code",
   "execution_count": 79,
   "metadata": {
    "collapsed": false
   },
   "outputs": [
    {
     "name": "stdout",
     "output_type": "stream",
     "text": [
      "  language      value\n",
      "0     java  12.247118\n",
      "1     ruby  46.412146\n",
      "2       js   8.573779\n"
     ]
    },
    {
     "data": {
      "image/png": "[encoded data removed]",
      "text/plain": [
       "<matplotlib.figure.Figure at 0x47af6c320>"
      ]
     },
     "metadata": {},
     "output_type": "display_data"
    }
   ],
   "source": [
    "var = calculate('gh_team_size').groupby('language').value.sum()\n",
    "fig = pyplot.figure()\n",
    "var.plot(kind='bar')\n",
    "pyplot.ylabel(\"GitHub team size average\")\n",
    "pyplot.xlabel(\"Used language\")\n",
    "pyplot.show()"
   ]
  },
  {
   "cell_type": "code",
   "execution_count": null,
   "metadata": {
    "collapsed": true
   },
   "outputs": [],
   "source": []
  }
 ],
 "metadata": {
  "anaconda-cloud": {},
  "kernelspec": {
   "display_name": "Python [conda root]",
   "language": "python",
   "name": "conda-root-py"
  },
  "language_info": {
   "codemirror_mode": {
    "name": "ipython",
    "version": 3
   },
   "file_extension": ".py",
   "mimetype": "text/x-python",
   "name": "python",
   "nbconvert_exporter": "python",
   "pygments_lexer": "ipython3",
   "version": "3.5.2"
  }
 },
 "nbformat": 4,
 "nbformat_minor": 1
}
